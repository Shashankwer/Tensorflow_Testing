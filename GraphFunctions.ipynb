{
  "nbformat": 4,
  "nbformat_minor": 0,
  "metadata": {
    "colab": {
      "name": "GraphFunctions.ipynb",
      "provenance": [],
      "collapsed_sections": [],
      "authorship_tag": "ABX9TyM30CbhkoD8wZkkOSPR5qUw",
      "include_colab_link": true
    },
    "kernelspec": {
      "name": "python3",
      "display_name": "Python 3"
    }
  },
  "cells": [
    {
      "cell_type": "markdown",
      "metadata": {
        "id": "view-in-github",
        "colab_type": "text"
      },
      "source": [
        "<a href=\"https://colab.research.google.com/github/Shashankwer/Tensorflow_Testing/blob/master/GraphFunctions.ipynb\" target=\"_parent\"><img src=\"https://colab.research.google.com/assets/colab-badge.svg\" alt=\"Open In Colab\"/></a>"
      ]
    },
    {
      "cell_type": "markdown",
      "metadata": {
        "id": "uBFMJN6XkHvb",
        "colab_type": "text"
      },
      "source": [
        "# Introduction to graphs and tf.function\n",
        "\n",
        "\n",
        "### Graphs? \n",
        "\n",
        "Eager execution allows tensorflow to run operation by operation and returns the results back to Python. By Eager execution Tensorflow takes advantage of GPUs allowing to place variables, tensors and even operations on GPUs and TPUs. It is also easier to debug. \n",
        "\n",
        "Executing op by op in Python prevents the host acceleration which is otherwise available. If one can extract computation from Python one can make them into a graph. \n",
        "\n",
        "Graphs are the structures that contain a set of tf.Operation objects, which represents units of computation; and tf.Tensor object, which represent the units of data that flows between the operation. \n",
        "\n",
        "Graph are defined in a tf.Graph context. \n",
        "\n",
        "### The benefits of graphs: \n",
        "\n",
        "With graph one can have a great deal of flexibility. One can use Tensorflow graph in environments that do not have a Python interpreter, like mobile applications, embedded devices and backend services. Tensorflow uses graphs as the format for saved models when it exports them from python. \n",
        "\n",
        "Graphs are also easily optimized allowing the compiler to do the transformations like \n",
        "\n",
        "1. Statistically infer the value of the tensor by folding constatnnode in the computation\n",
        "2. Seperate subparts of a computation that are independent and split them between threads or devices. \n",
        "3. Simplify arithematic operations by eliminating common subexpressions. \n",
        "\n",
        "\n",
        "\n"
      ]
    },
    {
      "cell_type": "code",
      "metadata": {
        "id": "ROH3T5bokFJc",
        "colab_type": "code",
        "colab": {}
      },
      "source": [
        "import tensorflow as tf\n",
        "import timeit\n",
        "from datetime import datetime\n",
        "\n"
      ],
      "execution_count": 1,
      "outputs": []
    },
    {
      "cell_type": "code",
      "metadata": {
        "id": "0X8qyuFfmraR",
        "colab_type": "code",
        "colab": {}
      },
      "source": [
        "def function_to_get_faster(x,y,b):\n",
        "  x = tf.matmul(x,y)\n",
        "  x = x + b\n",
        "  return x"
      ],
      "execution_count": 2,
      "outputs": []
    },
    {
      "cell_type": "code",
      "metadata": {
        "id": "65lWMkEOnANI",
        "colab_type": "code",
        "colab": {}
      },
      "source": [
        "a_function_that_uses_graph = tf.function(function_to_get_faster)"
      ],
      "execution_count": 3,
      "outputs": []
    },
    {
      "cell_type": "code",
      "metadata": {
        "id": "LaJBcTsYnGFE",
        "colab_type": "code",
        "colab": {
          "base_uri": "https://localhost:8080/",
          "height": 34
        },
        "outputId": "0fda1d3e-5bea-493b-b50a-5266e3bbd12b"
      },
      "source": [
        "x1 = tf.constant([[1.0,2.0]])\n",
        "y1 = tf.constant([[2.0],[3.0]])\n",
        "b1 = tf.constant(4.0)\n",
        "a_function_that_uses_graph(x1,y1,b1).numpy()"
      ],
      "execution_count": 4,
      "outputs": [
        {
          "output_type": "execute_result",
          "data": {
            "text/plain": [
              "array([[12.]], dtype=float32)"
            ]
          },
          "metadata": {
            "tags": []
          },
          "execution_count": 4
        }
      ]
    },
    {
      "cell_type": "markdown",
      "metadata": {
        "id": "avuFliYBnYrO",
        "colab_type": "text"
      },
      "source": [
        "tf.function-ized functions are Python callbales and are equivalent to the python classes. They have a particular class \n",
        "`python.eager.def_function.Function` but to us its simply a non traced function version. \n"
      ]
    },
    {
      "cell_type": "code",
      "metadata": {
        "id": "NlrGeKsWnYLa",
        "colab_type": "code",
        "colab": {}
      },
      "source": [
        "def inner_function(x,y,b):\n",
        "  #print(x,y,b)\n",
        "  x = tf.matmul(x,y)\n",
        "  x = x+b\n",
        "  #print(x)\n",
        "  return x\n"
      ],
      "execution_count": 5,
      "outputs": []
    },
    {
      "cell_type": "code",
      "metadata": {
        "id": "ecwJk9cdnUvs",
        "colab_type": "code",
        "colab": {
          "base_uri": "https://localhost:8080/",
          "height": 34
        },
        "outputId": "5cfffca1-0ffa-421f-b70c-02bfd04e1eb8"
      },
      "source": [
        "@tf.function\n",
        "def outer_function(x):\n",
        "  #print(x)\n",
        "  y = tf.constant([[2.0],[3.0]])\n",
        "  b = tf.constant(3.0)\n",
        "  return inner_function(x,y,b)\n",
        "\n",
        "#tf.function creates a graph.\n",
        "outer_function(tf.constant([[1.0, 2.0]])).numpy()"
      ],
      "execution_count": 6,
      "outputs": [
        {
          "output_type": "execute_result",
          "data": {
            "text/plain": [
              "array([[11.]], dtype=float32)"
            ]
          },
          "metadata": {
            "tags": []
          },
          "execution_count": 6
        }
      ]
    },
    {
      "cell_type": "markdown",
      "metadata": {
        "id": "ev2VrlbbpBkb",
        "colab_type": "text"
      },
      "source": [
        "Flow Controls and side effects: \n",
        "\n",
        "Flow controls and loops are converted into Tensorflow via `tf.autograph` which makes use of methods standardizing loop constructs, unrolling and AST manipulation"
      ]
    },
    {
      "cell_type": "code",
      "metadata": {
        "id": "1tEGxvKdoKsT",
        "colab_type": "code",
        "colab": {
          "base_uri": "https://localhost:8080/",
          "height": 51
        },
        "outputId": "8d128992-6b33-464b-a3e0-253d7592b1ea"
      },
      "source": [
        "def my_function(x):\n",
        "  if tf.reduce_sum(x)<=1:\n",
        "    return x*x\n",
        "  else:\n",
        "    return x-1\n",
        "a_function = tf.function(my_function)\n",
        "print(\"First Branch with graph\",a_function(tf.constant(1.0)).numpy())\n",
        "print(\"Second Branch with graph\",a_function(tf.constant([5.0,6.0])).numpy())"
      ],
      "execution_count": 7,
      "outputs": [
        {
          "output_type": "stream",
          "text": [
            "First Branch with graph 1.0\n",
            "Second Branch with graph [4. 5.]\n"
          ],
          "name": "stdout"
        }
      ]
    },
    {
      "cell_type": "code",
      "metadata": {
        "id": "t6OaWp45pkZu",
        "colab_type": "code",
        "colab": {
          "base_uri": "https://localhost:8080/",
          "height": 581
        },
        "outputId": "1f4a51c3-5171-4058-dfdc-d335ed090fac"
      },
      "source": [
        "print(tf.autograph.to_code(my_function))"
      ],
      "execution_count": 8,
      "outputs": [
        {
          "output_type": "stream",
          "text": [
            "def tf__my_function(x):\n",
            "    with ag__.FunctionScope('my_function', 'fscope', ag__.ConversionOptions(recursive=True, user_requested=True, optional_features=(), internal_convert_user_code=True)) as fscope:\n",
            "        do_return = False\n",
            "        retval_ = ag__.UndefinedReturnValue()\n",
            "\n",
            "        def get_state():\n",
            "            return (do_return, retval_)\n",
            "\n",
            "        def set_state(vars_):\n",
            "            nonlocal do_return, retval_\n",
            "            (do_return, retval_) = vars_\n",
            "\n",
            "        def if_body():\n",
            "            nonlocal do_return, retval_\n",
            "            try:\n",
            "                do_return = True\n",
            "                retval_ = (ag__.ld(x) * ag__.ld(x))\n",
            "            except:\n",
            "                do_return = False\n",
            "                raise\n",
            "\n",
            "        def else_body():\n",
            "            nonlocal do_return, retval_\n",
            "            try:\n",
            "                do_return = True\n",
            "                retval_ = (ag__.ld(x) - 1)\n",
            "            except:\n",
            "                do_return = False\n",
            "                raise\n",
            "        ag__.if_stmt((ag__.converted_call(ag__.ld(tf).reduce_sum, (ag__.ld(x),), None, fscope) <= 1), if_body, else_body, get_state, set_state, ('do_return', 'retval_'), 2)\n",
            "        return fscope.ret(retval_, do_return)\n",
            "\n"
          ],
          "name": "stdout"
        }
      ]
    },
    {
      "cell_type": "markdown",
      "metadata": {
        "id": "taYjWFVtqITB",
        "colab_type": "text"
      },
      "source": [
        "### Seeing the speedup\n",
        "\n",
        "Just wrapping a tensor-saped function `tf.function` does not automatically speeds up your code. For small functions called a few times on a single machine the overhead of calling a grpah or fragmented graph may dominate runtime. Also if most of the computation already happened on the accelerator, such as stacks of GPU heavy computation, the graph speedup wont be large.\n",
        "\n",
        "For complicated computation, graph can provide a significant speedup. This is because graph can reduce the Python device to device communication and performs some speedups"
      ]
    },
    {
      "cell_type": "code",
      "metadata": {
        "id": "9PuzzAEcpvBu",
        "colab_type": "code",
        "colab": {}
      },
      "source": [
        "class SequentialModel(tf.keras.Model):\n",
        "  def __init__(self,**kwargs):\n",
        "    super(SequentialModel,self).__init__(**kwargs)\n",
        "    self.flatten = tf.keras.layers.Flatten(input_shape=(28,28))\n",
        "    self.dense_1 = tf.keras.layers.Dense(128,activation='relu')\n",
        "    self.dropout = tf.keras.layers.Dropout(0.2)\n",
        "    self.dense_2 = tf.keras.layers.Dense(10)\n",
        "  \n",
        "  def call(self,x):\n",
        "    x = self.flatten(x)\n",
        "    x = self.dense_1(x)\n",
        "    x = self.dropout(x)\n",
        "    x = self.dense_2(x)\n",
        "    return x\n"
      ],
      "execution_count": 9,
      "outputs": []
    },
    {
      "cell_type": "code",
      "metadata": {
        "id": "slW_25frrV1p",
        "colab_type": "code",
        "colab": {
          "base_uri": "https://localhost:8080/",
          "height": 51
        },
        "outputId": "c9b48955-d953-4c09-e816-79b368a070f4"
      },
      "source": [
        "input_data = tf.random.uniform([60,28,28])\n",
        "eager_model = SequentialModel()\n",
        "graph_model = tf.function(eager_model)\n",
        "print(\"Eager Time:\", timeit.timeit(lambda: eager_model(input_data),number=10000))\n",
        "print(\"Graph Time:\", timeit.timeit(lambda: graph_model(input_data),number=10000))\n"
      ],
      "execution_count": 10,
      "outputs": [
        {
          "output_type": "stream",
          "text": [
            "Eager Time: 8.643591995999998\n",
            "Graph Time: 6.703129660999991\n"
          ],
          "name": "stdout"
        }
      ]
    },
    {
      "cell_type": "markdown",
      "metadata": {
        "id": "GT2vski2viHr",
        "colab_type": "text"
      },
      "source": [
        "## Polymorphic functions\n",
        "\n",
        "A function stores the different kinds of datatyoe by which the grpah can be invoked. The function then stores the tf.Graph corresponding to the trace concrete_cuntion. If the function has already been traced with that kind of argument, one can just get the pretraced graph\n",
        "\n",
        "Conceptually:\n",
        "  1. A tf.Graph is the raw datastructure describing a computation\n",
        "  2. A Function is a caching, tracing, dispatching over concrete function\n",
        "  3. A ConcreteFunction is an eager compatible wrapped around a graph that allows to execute graph from Python\n",
        "\n",
        "By default the tensorflow function execute with tf.Graph or with.Graph().as_default(). This measn that one is likely running in a graph context. Core functions in Tensorflow use graph contexts, such as Keras's model_fit()\n",
        "\n",
        "For converting the function back to eager mode one can make use of:\n",
        "1. Call models and layers directly as callables\n",
        "2. When using Keras compile/fit at compile time use model.compile(run_eagerly=True)\n",
        "3. Setting the global execution mode via tf.config.run_functions_eagerly(True)\n",
        "\n",
        "\n"
      ]
    },
    {
      "cell_type": "code",
      "metadata": {
        "id": "fFub6_96rx0c",
        "colab_type": "code",
        "colab": {}
      },
      "source": [
        "class EagerLayer(tf.keras.layers.Layer):\n",
        "  def __init__(self,**kwargs):\n",
        "    super(EagerLayer,self).__init__(**kwargs)\n",
        "    #some initialization\n",
        "  \n",
        "  def call(self,inputs):\n",
        "    print(\"\\nCurrently running eagerly\",str(datetime.now))\n",
        "    return inputs"
      ],
      "execution_count": 11,
      "outputs": []
    },
    {
      "cell_type": "code",
      "metadata": {
        "id": "1uwl7uc5xsXH",
        "colab_type": "code",
        "colab": {}
      },
      "source": [
        "class SequentialModel(tf.keras.Model):\n",
        "  def __init__(self,**kwargs):\n",
        "    super(SequentialModel,self).__init__(**kwargs)\n",
        "    self.flatten = tf.keras.layers.Flatten(input_shape=(28,28))\n",
        "    self.dense_1 = tf.keras.layers.Dense(128,activation='relu')\n",
        "    self.dropout = tf.keras.layers.Dropout(0.2)\n",
        "    self.dense_2 = tf.keras.layers.Dense(10)\n",
        "    self.eager = EagerLayer()\n",
        "  \n",
        "  def call(self,x):\n",
        "    x = self.flatten(x)\n",
        "    x = self.dense_1(x)\n",
        "    x = self.dropout(x)\n",
        "    x = self.dense_2(x)\n",
        "    return self.eager(x)"
      ],
      "execution_count": 12,
      "outputs": []
    },
    {
      "cell_type": "code",
      "metadata": {
        "id": "l5aMrXR0ybbx",
        "colab_type": "code",
        "colab": {}
      },
      "source": [
        "model = SequentialModel()"
      ],
      "execution_count": 13,
      "outputs": []
    },
    {
      "cell_type": "code",
      "metadata": {
        "id": "EwTY_pahyfaN",
        "colab_type": "code",
        "colab": {}
      },
      "source": [
        "input_data = tf.random.uniform([60,28,28])\n",
        "labels = tf.random.uniform([60])\n",
        "\n",
        "loss_fn = tf.keras.losses.SparseCategoricalCrossentropy(from_logits=True)"
      ],
      "execution_count": 14,
      "outputs": []
    },
    {
      "cell_type": "code",
      "metadata": {
        "id": "RlsLlLQqywNa",
        "colab_type": "code",
        "colab": {}
      },
      "source": [
        "model.compile(run_eagerly=False,loss=loss_fn)"
      ],
      "execution_count": 15,
      "outputs": []
    },
    {
      "cell_type": "code",
      "metadata": {
        "id": "xZ8IrT9Zy3j_",
        "colab_type": "code",
        "colab": {
          "base_uri": "https://localhost:8080/",
          "height": 204
        },
        "outputId": "9ee385ae-87af-4e9f-f741-72df691a7b45"
      },
      "source": [
        "model.fit(input_data,labels,epochs=3)"
      ],
      "execution_count": 16,
      "outputs": [
        {
          "output_type": "stream",
          "text": [
            "Epoch 1/3\n",
            "\n",
            "Currently running eagerly <built-in method now of type object at 0xa33e60>\n",
            "\n",
            "Currently running eagerly <built-in method now of type object at 0xa33e60>\n",
            "2/2 [==============================] - 0s 4ms/step - loss: 2.4185\n",
            "Epoch 2/3\n",
            "2/2 [==============================] - 0s 4ms/step - loss: 0.0100\n",
            "Epoch 3/3\n",
            "2/2 [==============================] - 0s 3ms/step - loss: 0.0049\n"
          ],
          "name": "stdout"
        },
        {
          "output_type": "execute_result",
          "data": {
            "text/plain": [
              "<tensorflow.python.keras.callbacks.History at 0x7f7a3084ecf8>"
            ]
          },
          "metadata": {
            "tags": []
          },
          "execution_count": 16
        }
      ]
    },
    {
      "cell_type": "code",
      "metadata": {
        "id": "h09PmTSay7tb",
        "colab_type": "code",
        "colab": {
          "base_uri": "https://localhost:8080/",
          "height": 357
        },
        "outputId": "ac328f91-5ba0-457c-c987-02f5865af901"
      },
      "source": [
        "print(\"Running eagerly\")\n",
        "model.compile(run_eagerly=True,loss=loss_fn)\n",
        "model.fit(input_data,labels,epochs=3)"
      ],
      "execution_count": 17,
      "outputs": [
        {
          "output_type": "stream",
          "text": [
            "Running eagerly\n",
            "Epoch 1/3\n",
            "\n",
            "Currently running eagerly <built-in method now of type object at 0xa33e60>\n",
            "1/2 [==============>...............] - ETA: 0s - loss: 0.0034\n",
            "Currently running eagerly <built-in method now of type object at 0xa33e60>\n",
            "2/2 [==============================] - 0s 10ms/step - loss: 0.0018\n",
            "Epoch 2/3\n",
            "\n",
            "Currently running eagerly <built-in method now of type object at 0xa33e60>\n",
            "1/2 [==============>...............] - ETA: 0s - loss: 4.2431e-06\n",
            "Currently running eagerly <built-in method now of type object at 0xa33e60>\n",
            "2/2 [==============================] - 0s 9ms/step - loss: 6.0358e-06\n",
            "Epoch 3/3\n",
            "\n",
            "Currently running eagerly <built-in method now of type object at 0xa33e60>\n",
            "1/2 [==============>...............] - ETA: 0s - loss: 6.6458e-06\n",
            "Currently running eagerly <built-in method now of type object at 0xa33e60>\n",
            "2/2 [==============================] - 0s 9ms/step - loss: 4.9809e-06\n"
          ],
          "name": "stdout"
        },
        {
          "output_type": "execute_result",
          "data": {
            "text/plain": [
              "<tensorflow.python.keras.callbacks.History at 0x7f7a30a57b00>"
            ]
          },
          "metadata": {
            "tags": []
          },
          "execution_count": 17
        }
      ]
    },
    {
      "cell_type": "code",
      "metadata": {
        "id": "O2LnvInozQSS",
        "colab_type": "code",
        "colab": {
          "base_uri": "https://localhost:8080/",
          "height": 221
        },
        "outputId": "3b8d704f-182c-4ae7-e1e2-0e11abc47821"
      },
      "source": [
        "\"\"\"\n",
        "Using run_functions_eagerly:\n",
        "\n",
        "You can also globally set everything to run eagerly\n",
        "\"\"\"\n",
        "\n",
        "tf.config.run_functions_eagerly(True)\n",
        "print(\"Running all functions eagerly\")\n",
        "\n",
        "polymorphic_functions = tf.function(model)\n",
        "\n",
        "print(polymorphic_functions.get_concrete_function(input_data))\n",
        "\n",
        "result = polymorphic_functions(input_data)\n",
        "result = polymorphic_functions(input_data)\n"
      ],
      "execution_count": 18,
      "outputs": [
        {
          "output_type": "stream",
          "text": [
            "Running all functions eagerly\n",
            "\n",
            "Currently running eagerly <built-in method now of type object at 0xa33e60>\n",
            "ConcreteFunction function(self)\n",
            "  Args:\n",
            "    self: float32 Tensor, shape=(60, 28, 28)\n",
            "  Returns:\n",
            "    float32 Tensor, shape=(60, 10)\n",
            "\n",
            "Currently running eagerly <built-in method now of type object at 0xa33e60>\n",
            "\n",
            "Currently running eagerly <built-in method now of type object at 0xa33e60>\n"
          ],
          "name": "stdout"
        }
      ]
    },
    {
      "cell_type": "code",
      "metadata": {
        "id": "9Smlle_e0I5h",
        "colab_type": "code",
        "colab": {
          "base_uri": "https://localhost:8080/",
          "height": 88
        },
        "outputId": "23c9a328-2d50-4661-a451-82176510bdb0"
      },
      "source": [
        "tf.config.experimental_run_functions_eagerly(False)"
      ],
      "execution_count": 19,
      "outputs": [
        {
          "output_type": "stream",
          "text": [
            "WARNING:tensorflow:From <ipython-input-19-6f08e7c936eb>:1: experimental_run_functions_eagerly (from tensorflow.python.eager.def_function) is deprecated and will be removed in a future version.\n",
            "Instructions for updating:\n",
            "Use `tf.config.run_functions_eagerly` instead of the experimental version.\n"
          ],
          "name": "stdout"
        }
      ]
    },
    {
      "cell_type": "code",
      "metadata": {
        "id": "q0MoymBI0icE",
        "colab_type": "code",
        "colab": {}
      },
      "source": [
        ""
      ],
      "execution_count": null,
      "outputs": []
    }
  ]
}