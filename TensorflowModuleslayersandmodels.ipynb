{
  "nbformat": 4,
  "nbformat_minor": 0,
  "metadata": {
    "colab": {
      "name": "TensorflowModuleslayersandmodels.ipynb",
      "provenance": [],
      "authorship_tag": "ABX9TyMIfvRSkBFhvexU3iSIgnaj",
      "include_colab_link": true
    },
    "kernelspec": {
      "name": "python3",
      "display_name": "Python 3"
    }
  },
  "cells": [
    {
      "cell_type": "markdown",
      "metadata": {
        "id": "view-in-github",
        "colab_type": "text"
      },
      "source": [
        "<a href=\"https://colab.research.google.com/github/Shashankwer/Tensorflow_Testing/blob/master/TensorflowModuleslayersandmodels.ipynb\" target=\"_parent\"><img src=\"https://colab.research.google.com/assets/colab-badge.svg\" alt=\"Open In Colab\"/></a>"
      ]
    },
    {
      "cell_type": "markdown",
      "metadata": {
        "id": "GW65OfnhfDkf",
        "colab_type": "text"
      },
      "source": [
        "This guide is a guide for machine learning below the Keras level APIs\n",
        "\n",
        "A model is abstractly \n",
        "* A function that computes something on tensors(a forward pass)\n",
        "* Some variables that are updated in response to training\n",
        "\n"
      ]
    },
    {
      "cell_type": "code",
      "metadata": {
        "id": "2RKaj5XXe7V2",
        "colab_type": "code",
        "colab": {}
      },
      "source": [
        "import tensorflow as tf\n",
        "from datetime import datetime"
      ],
      "execution_count": 55,
      "outputs": []
    },
    {
      "cell_type": "markdown",
      "metadata": {
        "id": "CW7_Xig4fr5Q",
        "colab_type": "text"
      },
      "source": [
        "# Defining models and layers: \n",
        "\n",
        "Most of the models are made of layrs are functions  with a known mathematical structure that can be reused and have trainable variables. In tensorflow most high level implementations of layers and models, such as keras or Sonnet are build using the same functional class tf.Module\n"
      ]
    },
    {
      "cell_type": "code",
      "metadata": {
        "id": "mtKAOLnMfXLW",
        "colab_type": "code",
        "colab": {}
      },
      "source": [
        "class SimpleModule(tf.Module):\n",
        "  def __init__(self,name=None):\n",
        "    super().__init__(name=name)\n",
        "    self.a_variable = tf.Variable(5.0,name=\"train_me\")\n",
        "    self.non_trainable_variable = tf.Variable(5.0,trainable=False,name=\"do_not_train_me\")\n",
        "  @tf.function\n",
        "  def __call__(self,x):\n",
        "    return self.a_variable*x+self.non_trainable_variable"
      ],
      "execution_count": 56,
      "outputs": []
    },
    {
      "cell_type": "code",
      "metadata": {
        "id": "s-7Dq4SagKIX",
        "colab_type": "code",
        "colab": {}
      },
      "source": [
        "simple_module = SimpleModule(name=\"simple\")"
      ],
      "execution_count": 57,
      "outputs": []
    },
    {
      "cell_type": "code",
      "metadata": {
        "id": "U7n5LMpugNVK",
        "colab_type": "code",
        "colab": {
          "base_uri": "https://localhost:8080/",
          "height": 34
        },
        "outputId": "ef96ccab-e49f-4edf-c53a-1119a3581e75"
      },
      "source": [
        "simple_module(tf.constant(5.0))"
      ],
      "execution_count": 58,
      "outputs": [
        {
          "output_type": "execute_result",
          "data": {
            "text/plain": [
              "<tf.Tensor: shape=(), dtype=float32, numpy=30.0>"
            ]
          },
          "metadata": {
            "tags": []
          },
          "execution_count": 58
        }
      ]
    },
    {
      "cell_type": "markdown",
      "metadata": {
        "id": "JBRxUDk2gTzA",
        "colab_type": "text"
      },
      "source": [
        "Modules and by extension layers are deep learning terminologies for objects. They have internal state and methods that use that state. \n",
        "\n",
        "There is nothing special about `__call__` except to act like Python callavle one can invoke in the models wtih whatever function one whish for\n",
        "\n",
        "Trainability can be set on or off for any reason, including freezing layers and variables during fine-tuning\n",
        "\n",
        "*tf.Module* is the base class of both **tf.keras.layers.Layer** and **tf.keras.Model**. For hsitorical compatibility reasons Keras layers do not collect variables from module so models should use only modules or only Keras layers.\n",
        "\n",
        "By subclassing *tf.Module*, any *tf.Variable* or *tf.Module* instances assigned to this object's properties are automatically collected. This allows to save and load variables and alos create collections of *tf.Module*s"
      ]
    },
    {
      "cell_type": "code",
      "metadata": {
        "id": "Y0UzfH8CgRJB",
        "colab_type": "code",
        "colab": {
          "base_uri": "https://localhost:8080/",
          "height": 71
        },
        "outputId": "4b4d6b3d-ff8d-4693-ef09-4d81f1d9acb0"
      },
      "source": [
        "print(\"trainable variables:\",simple_module.trainable_variables)\n",
        "#Every variable\n",
        "print(\"all variables:\",simple_module.variables)"
      ],
      "execution_count": 59,
      "outputs": [
        {
          "output_type": "stream",
          "text": [
            "trainable variables: (<tf.Variable 'train_me:0' shape=() dtype=float32, numpy=5.0>,)\n",
            "all variables: (<tf.Variable 'train_me:0' shape=() dtype=float32, numpy=5.0>, <tf.Variable 'do_not_train_me:0' shape=() dtype=float32, numpy=5.0>)\n"
          ],
          "name": "stdout"
        }
      ]
    },
    {
      "cell_type": "code",
      "metadata": {
        "id": "2z6D8tnChgCj",
        "colab_type": "code",
        "colab": {}
      },
      "source": [
        "class Dense(tf.Module):\n",
        "  def __init__(self,in_features,out_features,name=None):\n",
        "    super().__init__(name=name)\n",
        "    self.w = tf.Variable(tf.random.normal([in_features,out_features]),name='w')\n",
        "    self.b = tf.Variable(tf.zeros([out_features]),name='b')\n",
        "  @tf.function \n",
        "  def __call__(self,x):\n",
        "    y = tf.matmul(x,self.w)+self.b\n",
        "    return tf.nn.relu(y)\n"
      ],
      "execution_count": 60,
      "outputs": []
    },
    {
      "cell_type": "code",
      "metadata": {
        "id": "iNabF5OXiDwP",
        "colab_type": "code",
        "colab": {}
      },
      "source": [
        "class SequetialModel(tf.Module):\n",
        "  def __init__(self,name=None):\n",
        "    super().__init__(name=name)\n",
        "    self.dense_1 = Dense(in_features=3,out_features=3)\n",
        "    self.dense_2 = Dense(in_features=3,out_features=2)\n",
        "  \n",
        "  def __call__(self,x):\n",
        "    x = self.dense_1(x)\n",
        "    return self.dense_2(x)\n"
      ],
      "execution_count": 61,
      "outputs": []
    },
    {
      "cell_type": "code",
      "metadata": {
        "id": "aF50zgZLibap",
        "colab_type": "code",
        "colab": {
          "base_uri": "https://localhost:8080/",
          "height": 54
        },
        "outputId": "daea9869-f7c1-41d1-e4a3-2771df78d9e9"
      },
      "source": [
        "my_model = SequetialModel(name=\"the_model\")\n",
        "print(\"Model results:\",my_model(tf.constant([[2.0,2.0,2.0]])))"
      ],
      "execution_count": 62,
      "outputs": [
        {
          "output_type": "stream",
          "text": [
            "Model results: tf.Tensor([[0.        5.6875362]], shape=(1, 2), dtype=float32)\n"
          ],
          "name": "stdout"
        }
      ]
    },
    {
      "cell_type": "markdown",
      "metadata": {
        "id": "4HnaLhGHi-H-",
        "colab_type": "text"
      },
      "source": [
        "`tf.Module` instances will automatically, collect, recursively any `tf.Variable` or `tf.Module` instances assigned to it. This allows one to manage collections of `tf.Module`s with a single model instance and save and load the whole models. "
      ]
    },
    {
      "cell_type": "code",
      "metadata": {
        "id": "0Twql4oRimTl",
        "colab_type": "code",
        "colab": {
          "base_uri": "https://localhost:8080/",
          "height": 54
        },
        "outputId": "60de7e27-0fd4-47f6-8431-302b948293f9"
      },
      "source": [
        "print(\"Submodels\", my_model.submodules)"
      ],
      "execution_count": 14,
      "outputs": [
        {
          "output_type": "stream",
          "text": [
            "Submodels (<__main__.Dense object at 0x7f97ea3799e8>, <__main__.Dense object at 0x7f97ea3794a8>)\n"
          ],
          "name": "stdout"
        }
      ]
    },
    {
      "cell_type": "code",
      "metadata": {
        "id": "TmvBIThojPH8",
        "colab_type": "code",
        "colab": {
          "base_uri": "https://localhost:8080/",
          "height": 275
        },
        "outputId": "6343d473-9023-4ff6-bb31-a77ade988dbc"
      },
      "source": [
        "for var in my_model.variables:\n",
        "  print(var,\"\\n\")"
      ],
      "execution_count": 15,
      "outputs": [
        {
          "output_type": "stream",
          "text": [
            "<tf.Variable 'b:0' shape=(3,) dtype=float32, numpy=array([0., 0., 0.], dtype=float32)> \n",
            "\n",
            "<tf.Variable 'w:0' shape=(3, 3) dtype=float32, numpy=\n",
            "array([[-0.6983206 , -0.3311129 ,  1.7663767 ],\n",
            "       [ 1.0761409 , -0.37199038, -0.1732689 ],\n",
            "       [-0.31482482, -1.005461  ,  0.03379207]], dtype=float32)> \n",
            "\n",
            "<tf.Variable 'b:0' shape=(2,) dtype=float32, numpy=array([0., 0.], dtype=float32)> \n",
            "\n",
            "<tf.Variable 'w:0' shape=(3, 2) dtype=float32, numpy=\n",
            "array([[ 0.8653841 , -0.839348  ],\n",
            "       [-0.66861176,  0.49682468],\n",
            "       [ 1.3994701 , -0.70983684]], dtype=float32)> \n",
            "\n"
          ],
          "name": "stdout"
        }
      ]
    },
    {
      "cell_type": "markdown",
      "metadata": {
        "id": "QlIUtcfQjeLi",
        "colab_type": "text"
      },
      "source": [
        "# Waiting to create variables\n",
        "\n",
        "By deferring te variable creation to the firs time the model is called with a specific shape, one do not need to specify the input size up front"
      ]
    },
    {
      "cell_type": "code",
      "metadata": {
        "id": "WbNbPhtNjVx4",
        "colab_type": "code",
        "colab": {}
      },
      "source": [
        "class FlexibleDenseModule(tf.Module):\n",
        "  #Note: No need for `in_features`\n",
        "  def __init__(self,out_features,name=None):\n",
        "    super().__init__(name=name)\n",
        "    self.is_built=False\n",
        "    self.out_features=out_features\n",
        "  @tf.function\n",
        "  def __call__(self,x):\n",
        "    if not self.is_built:\n",
        "      self.w = tf.Variable(tf.random.normal([x.shape[-1],self.out_features]),name='w')\n",
        "      self.b = tf.Variable(tf.zeros([self.out_features]),name='b')\n",
        "      self.is_built=True\n",
        "    y =tf.matmul(x,self.w)+self.b\n",
        "    return tf.nn.relu(y)  "
      ],
      "execution_count": 24,
      "outputs": []
    },
    {
      "cell_type": "code",
      "metadata": {
        "id": "Md1A7hu2kbY8",
        "colab_type": "code",
        "colab": {}
      },
      "source": [
        "class MySequentialModel(tf.Module):\n",
        "  def __init__(self,name=None):\n",
        "    super().__init__(name=name)\n",
        "    self.dense1 = FlexibleDenseModule(out_features=3)\n",
        "    self.dense2 = FlexibleDenseModule(out_features=2)\n",
        "  \n",
        "  @tf.function\n",
        "  def __call__(self,x):\n",
        "    x = self.dense1(x)\n",
        "    return self.dense2(x)\n"
      ],
      "execution_count": 25,
      "outputs": []
    },
    {
      "cell_type": "code",
      "metadata": {
        "id": "oEoB_JsZk1-n",
        "colab_type": "code",
        "colab": {
          "base_uri": "https://localhost:8080/",
          "height": 54
        },
        "outputId": "de83d43f-916b-40de-c1e9-7e27963c8f61"
      },
      "source": [
        "my_model=MySequentialModel(name=\"the_model\")\n",
        "print(\"Model results:\",my_model(tf.constant([[2.0,2.0,2.0]])))"
      ],
      "execution_count": 26,
      "outputs": [
        {
          "output_type": "stream",
          "text": [
            "Model results: tf.Tensor([[1.8044676 0.       ]], shape=(1, 2), dtype=float32)\n"
          ],
          "name": "stdout"
        }
      ]
    },
    {
      "cell_type": "markdown",
      "metadata": {
        "id": "zmaWUfW2lPae",
        "colab_type": "text"
      },
      "source": [
        "# Saving weights: \n",
        "\n",
        "One can save a tf.Module as both a checkpoint and a SavedModel. \n",
        "\n",
        "Checkpoints are just the weights(that is, values of the set of variables inside the module and its submodules)"
      ]
    },
    {
      "cell_type": "code",
      "metadata": {
        "id": "VyYBqVAfk9wW",
        "colab_type": "code",
        "colab": {
          "base_uri": "https://localhost:8080/",
          "height": 35
        },
        "outputId": "58d8685b-0c21-4bd7-8c6d-178cbb320139"
      },
      "source": [
        "chkp_path = \"my_checkpoint\"\n",
        "checkpoint = tf.train.Checkpoint(model=my_model)\n",
        "checkpoint.write(chkp_path)\n",
        "checkpoint.write(chkp_path)"
      ],
      "execution_count": 27,
      "outputs": [
        {
          "output_type": "execute_result",
          "data": {
            "application/vnd.google.colaboratory.intrinsic+json": {
              "type": "string"
            },
            "text/plain": [
              "'my_checkpoint'"
            ]
          },
          "metadata": {
            "tags": []
          },
          "execution_count": 27
        }
      ]
    },
    {
      "cell_type": "markdown",
      "metadata": {
        "id": "k1bAzevKltfe",
        "colab_type": "text"
      },
      "source": [
        "Checkpoints consist of 2 kinds of files, the data itself and then an index file for metadata. The index file track of what is actually saved and the numbering of checkpoint data contains the variable values and their attribute lookup paths"
      ]
    },
    {
      "cell_type": "code",
      "metadata": {
        "id": "Y2zTk0O4lqDl",
        "colab_type": "code",
        "colab": {
          "base_uri": "https://localhost:8080/",
          "height": 102
        },
        "outputId": "bd80761d-33c7-4b30-f7bb-15aecca1bda2"
      },
      "source": [
        "tf.train.list_variables(chkp_path)"
      ],
      "execution_count": 28,
      "outputs": [
        {
          "output_type": "execute_result",
          "data": {
            "text/plain": [
              "[('_CHECKPOINTABLE_OBJECT_GRAPH', []),\n",
              " ('model/dense1/b/.ATTRIBUTES/VARIABLE_VALUE', [3]),\n",
              " ('model/dense1/w/.ATTRIBUTES/VARIABLE_VALUE', [3, 3]),\n",
              " ('model/dense2/b/.ATTRIBUTES/VARIABLE_VALUE', [2]),\n",
              " ('model/dense2/w/.ATTRIBUTES/VARIABLE_VALUE', [3, 2])]"
            ]
          },
          "metadata": {
            "tags": []
          },
          "execution_count": 28
        }
      ]
    },
    {
      "cell_type": "code",
      "metadata": {
        "id": "GQAJduRmmASm",
        "colab_type": "code",
        "colab": {
          "base_uri": "https://localhost:8080/",
          "height": 54
        },
        "outputId": "899cd993-5386-4a83-f7d2-0c0cf9f34110"
      },
      "source": [
        "new_model = MySequentialModel()\n",
        "new_checkpoint = tf.train.Checkpoint(model=new_model)\n",
        "new_checkpoint.restore(\"my_checkpoint\")"
      ],
      "execution_count": 29,
      "outputs": [
        {
          "output_type": "execute_result",
          "data": {
            "text/plain": [
              "<tensorflow.python.training.tracking.util.CheckpointLoadStatus at 0x7f97ea275b70>"
            ]
          },
          "metadata": {
            "tags": []
          },
          "execution_count": 29
        }
      ]
    },
    {
      "cell_type": "code",
      "metadata": {
        "id": "jzL3WgROmPPW",
        "colab_type": "code",
        "colab": {
          "base_uri": "https://localhost:8080/",
          "height": 54
        },
        "outputId": "b9c239fd-2d49-47de-b14a-356ccf01d3e6"
      },
      "source": [
        "new_model(tf.constant([[2.0,2.0,2.0]]))"
      ],
      "execution_count": 31,
      "outputs": [
        {
          "output_type": "execute_result",
          "data": {
            "text/plain": [
              "<tf.Tensor: shape=(1, 2), dtype=float32, numpy=array([[1.8044676, 0.       ]], dtype=float32)>"
            ]
          },
          "metadata": {
            "tags": []
          },
          "execution_count": 31
        }
      ]
    },
    {
      "cell_type": "code",
      "metadata": {
        "id": "DdQN-SWemYvv",
        "colab_type": "code",
        "colab": {
          "base_uri": "https://localhost:8080/",
          "height": 68
        },
        "outputId": "e7d156c2-9f79-4bca-9851-0b558a426412"
      },
      "source": [
        "print(my_model([[[2.0,2.0,2.0],[2.0,2.0,2.0]]]))"
      ],
      "execution_count": 32,
      "outputs": [
        {
          "output_type": "stream",
          "text": [
            "tf.Tensor(\n",
            "[[[1.8044676 0.       ]\n",
            "  [1.8044676 0.       ]]], shape=(1, 2, 2), dtype=float32)\n"
          ],
          "name": "stdout"
        }
      ]
    },
    {
      "cell_type": "code",
      "metadata": {
        "id": "exvpr3Fsmsau",
        "colab_type": "code",
        "colab": {
          "base_uri": "https://localhost:8080/",
          "height": 275
        },
        "outputId": "1425df0d-37a3-4ad4-969a-5eadb3245f4c"
      },
      "source": [
        "stamp = datetime.now().strftime(\"%Y%m%d-%H%M%S\")\n",
        "logdir = \"logs/func/%s\" % stamp\n",
        "writer = tf.summary.create_file_writer(logdir)\n",
        "\n",
        "new_model = MySequentialModel()\n",
        "tf.summary.trace_on(graph=True,profiler=True)\n",
        "z = print(new_model(tf.constant([[2.0,2.0,2.0]])))\n",
        "with writer.as_default():\n",
        "  tf.summary.trace_export(\n",
        "      name=\"my_func_trace\",\n",
        "      step=0,\n",
        "      profiler_outdir=logdir\n",
        "  )"
      ],
      "execution_count": 34,
      "outputs": [
        {
          "output_type": "stream",
          "text": [
            "WARNING:tensorflow:From /usr/local/lib/python3.6/dist-packages/tensorflow/python/ops/summary_ops_v2.py:1203: start (from tensorflow.python.eager.profiler) is deprecated and will be removed after 2020-07-01.\n",
            "Instructions for updating:\n",
            "use `tf.profiler.experimental.start` instead.\n",
            "WARNING:tensorflow:5 out of the last 5 calls to <function MySequentialModel.__call__ at 0x7f97e888eae8> triggered tf.function retracing. Tracing is expensive and the excessive number of tracings could be due to (1) creating @tf.function repeatedly in a loop, (2) passing tensors with different shapes, (3) passing Python objects instead of tensors. For (1), please define your @tf.function outside of the loop. For (2), @tf.function has experimental_relax_shapes=True option that relaxes argument shapes that can avoid unnecessary retracing. For (3), please refer to https://www.tensorflow.org/tutorials/customization/performance#python_or_tensor_args and https://www.tensorflow.org/api_docs/python/tf/function for  more details.\n",
            "tf.Tensor([[2.0565543 1.4202245]], shape=(1, 2), dtype=float32)\n",
            "WARNING:tensorflow:From /usr/local/lib/python3.6/dist-packages/tensorflow/python/ops/summary_ops_v2.py:1259: stop (from tensorflow.python.eager.profiler) is deprecated and will be removed after 2020-07-01.\n",
            "Instructions for updating:\n",
            "use `tf.profiler.experimental.stop` instead.\n",
            "WARNING:tensorflow:From /usr/local/lib/python3.6/dist-packages/tensorflow/python/ops/summary_ops_v2.py:1259: save (from tensorflow.python.eager.profiler) is deprecated and will be removed after 2020-07-01.\n",
            "Instructions for updating:\n",
            "`tf.python.eager.profiler` has deprecated, use `tf.profiler` instead.\n",
            "WARNING:tensorflow:From /usr/local/lib/python3.6/dist-packages/tensorflow/python/eager/profiler.py:151: maybe_create_event_file (from tensorflow.python.eager.profiler) is deprecated and will be removed after 2020-07-01.\n",
            "Instructions for updating:\n",
            "`tf.python.eager.profiler` has deprecated, use `tf.profiler` instead.\n"
          ],
          "name": "stdout"
        }
      ]
    },
    {
      "cell_type": "code",
      "metadata": {
        "id": "FtKcsdsJu-z-",
        "colab_type": "code",
        "colab": {}
      },
      "source": [
        "%load_ext tensorboard\n",
        "%tensorboard --logdir logs/func\n"
      ],
      "execution_count": null,
      "outputs": []
    },
    {
      "cell_type": "markdown",
      "metadata": {
        "id": "Gyef-2_tvqGk",
        "colab_type": "text"
      },
      "source": [
        "# Creating a SavedModel\n",
        "\n",
        "The recommended way of sharing completely trained models is to use SavedModel. SavedModel contains both a collection of functions and a collection of weights"
      ]
    },
    {
      "cell_type": "code",
      "metadata": {
        "id": "n_0YIAcpvXwM",
        "colab_type": "code",
        "colab": {
          "base_uri": "https://localhost:8080/",
          "height": 34
        },
        "outputId": "ab17c39a-9183-4855-96b1-21d22bcf8e19"
      },
      "source": [
        "tf.saved_model.save(my_model,\"the_saved_model\")"
      ],
      "execution_count": 37,
      "outputs": [
        {
          "output_type": "stream",
          "text": [
            "INFO:tensorflow:Assets written to: the_saved_model/assets\n"
          ],
          "name": "stdout"
        }
      ]
    },
    {
      "cell_type": "code",
      "metadata": {
        "id": "-wGLUXa9wRTs",
        "colab_type": "code",
        "colab": {
          "base_uri": "https://localhost:8080/",
          "height": 85
        },
        "outputId": "d7989a7a-35a1-4591-e827-ec4122fe965b"
      },
      "source": [
        "!ls -l the_saved_model"
      ],
      "execution_count": 38,
      "outputs": [
        {
          "output_type": "stream",
          "text": [
            "total 28\n",
            "drwxr-xr-x 2 root root  4096 Aug 15 10:53 assets\n",
            "-rw-r--r-- 1 root root 19094 Aug 15 10:53 saved_model.pb\n",
            "drwxr-xr-x 2 root root  4096 Aug 15 10:53 variables\n"
          ],
          "name": "stdout"
        }
      ]
    },
    {
      "cell_type": "code",
      "metadata": {
        "id": "DCdwxwmxwT4Z",
        "colab_type": "code",
        "colab": {
          "base_uri": "https://localhost:8080/",
          "height": 68
        },
        "outputId": "542a6bc3-533a-42ad-9e7d-4df381cc8004"
      },
      "source": [
        "!ls -l the_saved_model/variables"
      ],
      "execution_count": 39,
      "outputs": [
        {
          "output_type": "stream",
          "text": [
            "total 8\n",
            "-rw-r--r-- 1 root root 402 Aug 15 10:53 variables.data-00000-of-00001\n",
            "-rw-r--r-- 1 root root 355 Aug 15 10:53 variables.index\n"
          ],
          "name": "stdout"
        }
      ]
    },
    {
      "cell_type": "code",
      "metadata": {
        "id": "cWVBIyqLwYYd",
        "colab_type": "code",
        "colab": {}
      },
      "source": [
        "new_model = tf.saved_model.load(\"the_saved_model\")"
      ],
      "execution_count": 40,
      "outputs": []
    },
    {
      "cell_type": "code",
      "metadata": {
        "id": "gPHMgqI8wfNF",
        "colab_type": "code",
        "colab": {
          "base_uri": "https://localhost:8080/",
          "height": 54
        },
        "outputId": "eb168a4d-a336-4a5e-ca18-56a3c7e6d9b1"
      },
      "source": [
        "new_model([[2.0,2.0,2.0]])"
      ],
      "execution_count": 41,
      "outputs": [
        {
          "output_type": "execute_result",
          "data": {
            "text/plain": [
              "<tf.Tensor: shape=(1, 2), dtype=float32, numpy=array([[1.8044676, 0.       ]], dtype=float32)>"
            ]
          },
          "metadata": {
            "tags": []
          },
          "execution_count": 41
        }
      ]
    },
    {
      "cell_type": "markdown",
      "metadata": {
        "id": "XQpPEzvJwnkj",
        "colab_type": "text"
      },
      "source": [
        "#Keras models and layers\n",
        "\n",
        "Note that up unitl this point there is no mention of Keras. One can build your own high level API on top of tf.Module, and people have "
      ]
    },
    {
      "cell_type": "code",
      "metadata": {
        "id": "UVghFWWTwh2m",
        "colab_type": "code",
        "colab": {}
      },
      "source": [
        "class MyDense(tf.keras.layers.Layer):\n",
        "  def __init__(self,in_features,out_features,**kwargs):\n",
        "    super().__init__(**kwargs)\n",
        "    self.w = tf.Variable(tf.random.normal([in_features,out_features]),name='W')\n",
        "    self.b = tf.Variable(tf.zeros([out_features]),name='b')\n",
        "  @tf.function\n",
        "  def call(self,x):\n",
        "    y = tf.matmul(x,self.w)+self.b\n",
        "    return tf.nn.relu(y)"
      ],
      "execution_count": 46,
      "outputs": []
    },
    {
      "cell_type": "code",
      "metadata": {
        "id": "ghJSYzx4xTpy",
        "colab_type": "code",
        "colab": {}
      },
      "source": [
        "simple_layer = MyDense(name=\"simple\",in_features=3,out_features=3)"
      ],
      "execution_count": 47,
      "outputs": []
    },
    {
      "cell_type": "code",
      "metadata": {
        "id": "uniqrsmCxgB5",
        "colab_type": "code",
        "colab": {
          "base_uri": "https://localhost:8080/",
          "height": 54
        },
        "outputId": "5a3745bb-10f7-4488-d424-74517d42b849"
      },
      "source": [
        "simple_layer([[2.0,2.0,2.0]])"
      ],
      "execution_count": 48,
      "outputs": [
        {
          "output_type": "execute_result",
          "data": {
            "text/plain": [
              "<tf.Tensor: shape=(1, 3), dtype=float32, numpy=array([[0.        , 0.        , 0.16166806]], dtype=float32)>"
            ]
          },
          "metadata": {
            "tags": []
          },
          "execution_count": 48
        }
      ]
    },
    {
      "cell_type": "markdown",
      "metadata": {
        "id": "EJWq5EK0xtMC",
        "colab_type": "text"
      },
      "source": [
        "### The build step: \n",
        "\n",
        "As Noted its convineinet in many cases to wait to create variables unitl one is sure of the input shape\n",
        "\n",
        "Keras layers come with an extra lifecycle step that allows one more flexibility in how one defines the layers. This is defined in the `build()` function. \n",
        "\n",
        "`build` is called exactly once, and it is called with shape of the input. It's usually used to create variables(weights)"
      ]
    },
    {
      "cell_type": "code",
      "metadata": {
        "id": "omZVqKdMxi2I",
        "colab_type": "code",
        "colab": {}
      },
      "source": [
        "class FlexibleDense(tf.keras.layers.Layer):\n",
        "  def __init__(self,out_features,**kwargs):\n",
        "    super().__init__(**kwargs)\n",
        "    self.out_features=out_features\n",
        "  \n",
        "  def build(self,input_shape):# create the state of the layer(weights)\n",
        "    self.w = tf.Variable(tf.random.normal([input_shape[-1],self.out_features]),name='w')\n",
        "    self.b = tf.Variable(tf.zeros([self.out_features]),name='b')\n",
        "  \n",
        "  def call(self,inputs):\n",
        "    return tf.matmul(inputs,self.w)+self.b\n",
        "  \n",
        "#Creating an instance of the layer\n",
        "flexible_dense = FlexibleDense(out_features=3)"
      ],
      "execution_count": 49,
      "outputs": []
    },
    {
      "cell_type": "code",
      "metadata": {
        "id": "jABJYns-y5Nb",
        "colab_type": "code",
        "colab": {
          "base_uri": "https://localhost:8080/",
          "height": 34
        },
        "outputId": "02e9a41e-9a97-423f-bcbd-ce2281d9e9fa"
      },
      "source": [
        "flexible_dense.variables"
      ],
      "execution_count": 50,
      "outputs": [
        {
          "output_type": "execute_result",
          "data": {
            "text/plain": [
              "[]"
            ]
          },
          "metadata": {
            "tags": []
          },
          "execution_count": 50
        }
      ]
    },
    {
      "cell_type": "code",
      "metadata": {
        "id": "NC8TOnV1y7hk",
        "colab_type": "code",
        "colab": {
          "base_uri": "https://localhost:8080/",
          "height": 68
        },
        "outputId": "7cd10171-d2da-49fd-9a3e-257a499b846a"
      },
      "source": [
        "print(\"Model results: \",flexible_dense(tf.constant([[2.0,2.0,2.0],[3.0,3.0,3.0]])))"
      ],
      "execution_count": 51,
      "outputs": [
        {
          "output_type": "stream",
          "text": [
            "Model results:  tf.Tensor(\n",
            "[[ 5.0256906 -2.3145933  3.1164691]\n",
            " [ 7.538536  -3.47189    4.6747036]], shape=(2, 3), dtype=float32)\n"
          ],
          "name": "stdout"
        }
      ]
    },
    {
      "cell_type": "code",
      "metadata": {
        "id": "eId1wTzSzPBx",
        "colab_type": "code",
        "colab": {
          "base_uri": "https://localhost:8080/",
          "height": 122
        },
        "outputId": "ffdf444f-24fa-4ea7-b196-91371bf652b0"
      },
      "source": [
        "flexible_dense.variables"
      ],
      "execution_count": 52,
      "outputs": [
        {
          "output_type": "execute_result",
          "data": {
            "text/plain": [
              "[<tf.Variable 'flexible_dense/w:0' shape=(3, 3) dtype=float32, numpy=\n",
              " array([[ 1.3510668 ,  0.5209874 ,  0.50965416],\n",
              "        [-0.5100422 ,  0.0262166 , -0.2408849 ],\n",
              "        [ 1.6718206 , -1.7045007 ,  1.2894653 ]], dtype=float32)>,\n",
              " <tf.Variable 'flexible_dense/b:0' shape=(3,) dtype=float32, numpy=array([0., 0., 0.], dtype=float32)>]"
            ]
          },
          "metadata": {
            "tags": []
          },
          "execution_count": 52
        }
      ]
    },
    {
      "cell_type": "markdown",
      "metadata": {
        "id": "QVyV-asGzi35",
        "colab_type": "text"
      },
      "source": [
        "Build is only called once any subsequent calls are simply rejected."
      ]
    },
    {
      "cell_type": "code",
      "metadata": {
        "id": "1ukPtJAFziZ2",
        "colab_type": "code",
        "colab": {
          "base_uri": "https://localhost:8080/",
          "height": 34
        },
        "outputId": "670db1ac-3a0e-4b79-cf98-054a05bc1a52"
      },
      "source": [
        "try: \n",
        "  print(\"Model results:\",flexible_dense(tf.constant([[2.0,2.0,2.0,2.0]])))\n",
        "except tf.errors.InvalidArgumentError as e:\n",
        "  print(\"Failed:\", e)"
      ],
      "execution_count": 54,
      "outputs": [
        {
          "output_type": "stream",
          "text": [
            "Failed: Matrix size-incompatible: In[0]: [1,4], In[1]: [3,3] [Op:MatMul]\n"
          ],
          "name": "stdout"
        }
      ]
    },
    {
      "cell_type": "markdown",
      "metadata": {
        "id": "NnoSn8lCLjUb",
        "colab_type": "text"
      },
      "source": [
        "Keras Layers have a lot more extra features including\n",
        "* Optional Loss\n",
        "* Support for metrics\n",
        "* Built in support for optional training argument to differentiate between training and inference use.\n",
        "* `get_config` and `from_config` methods that allows one to accurately store configurations to allow model cloning in Python\n",
        "\n",
        "# Keras models: \n",
        "\n",
        "One can define model as nested Keras layers. \n",
        "However, keras also provides a full featured model class called `tf.keras.Model`. It inherits from `tf.keras.layers.Layer`, so a Keras models come with extra functionality that makes them easy to train, evaluate, load, save, and even train on multiple machines\n",
        "\n",
        "One can define the `SequentialModule` from above with nearly identical code, again converting `__call__` to `call()` and changing the parent. "
      ]
    },
    {
      "cell_type": "code",
      "metadata": {
        "id": "M1cL8WV7zZMt",
        "colab_type": "code",
        "colab": {}
      },
      "source": [
        "class MySequentialModel(tf.keras.Model):\n",
        "  def __init__(self,name=None,**kwargs):\n",
        "    super().__init__(**kwargs)\n",
        "    self.dense1=FlexibleDense(out_features=3)\n",
        "    self.dense2=FlexibleDense(out_features=2)\n",
        "  def call(self,x):\n",
        "    x = self.dense1(x)\n",
        "    return self.dense2(x)"
      ],
      "execution_count": 63,
      "outputs": []
    },
    {
      "cell_type": "code",
      "metadata": {
        "id": "SEbrl55eNN6n",
        "colab_type": "code",
        "colab": {}
      },
      "source": [
        "my_sequential_model = MySequentialModel(name=\"the_model\")"
      ],
      "execution_count": 64,
      "outputs": []
    },
    {
      "cell_type": "code",
      "metadata": {
        "id": "-N_7ZvFeNVeP",
        "colab_type": "code",
        "colab": {
          "base_uri": "https://localhost:8080/",
          "height": 54
        },
        "outputId": "51f7228f-8ab0-4210-9aaf-5790696ee6a5"
      },
      "source": [
        "print(\"Model results:\",my_sequential_model(tf.constant([[2.0,2.0,2.0]])))"
      ],
      "execution_count": 65,
      "outputs": [
        {
          "output_type": "stream",
          "text": [
            "Model results: tf.Tensor([[-9.818333  6.250565]], shape=(1, 2), dtype=float32)\n"
          ],
          "name": "stdout"
        }
      ]
    },
    {
      "cell_type": "markdown",
      "metadata": {
        "id": "rQTUAv8pNkro",
        "colab_type": "text"
      },
      "source": [
        "All the same features are available, including tracking variables and submodules. \n",
        "\n",
        "To emphasize the note above, a raw `tf.Module` nested inside a Keras layer or model will not get its variables collected for training or saving. Instead, nest keras layers inside of Keras layers."
      ]
    },
    {
      "cell_type": "code",
      "metadata": {
        "id": "m2wYtVhUNgZs",
        "colab_type": "code",
        "colab": {
          "base_uri": "https://localhost:8080/",
          "height": 207
        },
        "outputId": "d5efbf35-f229-44c7-db48-df3aa7b2dee3"
      },
      "source": [
        "my_sequential_model.variables"
      ],
      "execution_count": 66,
      "outputs": [
        {
          "output_type": "execute_result",
          "data": {
            "text/plain": [
              "[<tf.Variable 'my_sequential_model/flexible_dense_1/w:0' shape=(3, 3) dtype=float32, numpy=\n",
              " array([[-1.399645  ,  0.06991847, -0.0432677 ],\n",
              "        [-0.6534347 , -0.92082614,  0.4032547 ],\n",
              "        [-0.17581803, -0.33068183, -0.86391443]], dtype=float32)>,\n",
              " <tf.Variable 'my_sequential_model/flexible_dense_1/b:0' shape=(3,) dtype=float32, numpy=array([0., 0., 0.], dtype=float32)>,\n",
              " <tf.Variable 'my_sequential_model/flexible_dense_2/w:0' shape=(3, 2) dtype=float32, numpy=\n",
              " array([[ 0.9092294 , -0.5006875 ],\n",
              "        [ 1.7846612 , -1.5829638 ],\n",
              "        [ 1.5356383 , -0.27561128]], dtype=float32)>,\n",
              " <tf.Variable 'my_sequential_model/flexible_dense_2/b:0' shape=(2,) dtype=float32, numpy=array([0., 0.], dtype=float32)>]"
            ]
          },
          "metadata": {
            "tags": []
          },
          "execution_count": 66
        }
      ]
    },
    {
      "cell_type": "code",
      "metadata": {
        "id": "1fKCwcmKOGJ0",
        "colab_type": "code",
        "colab": {
          "base_uri": "https://localhost:8080/",
          "height": 51
        },
        "outputId": "68af0622-a8c7-4df4-a4a3-94d81ce5e19d"
      },
      "source": [
        "my_sequential_model.submodules"
      ],
      "execution_count": 67,
      "outputs": [
        {
          "output_type": "execute_result",
          "data": {
            "text/plain": [
              "(<__main__.FlexibleDense at 0x7f97e7b23080>,\n",
              " <__main__.FlexibleDense at 0x7f97e7b237b8>)"
            ]
          },
          "metadata": {
            "tags": []
          },
          "execution_count": 67
        }
      ]
    },
    {
      "cell_type": "markdown",
      "metadata": {
        "id": "5fFjBlDSOQUT",
        "colab_type": "text"
      },
      "source": [
        "Overriding `tf.keras.Model` is a very Pythonic approach to building TensorFlow models. If you are migrating from other frameworks, this can be straightforward. \n",
        "\n",
        "If one is constructing models that are simple assemblages of existing layers and inputs, one can save time ans space by using the functional API, which comes with additional features around model reconstruction and architechture. "
      ]
    },
    {
      "cell_type": "code",
      "metadata": {
        "id": "-Xt70oUFOMyC",
        "colab_type": "code",
        "colab": {
          "base_uri": "https://localhost:8080/",
          "height": 255
        },
        "outputId": "5b2a1169-493c-45a5-8671-7e61af1414d6"
      },
      "source": [
        "inputs = tf.keras.Input(shape=[3,])\n",
        "x = FlexibleDense(3)(inputs)\n",
        "x = FlexibleDense(2)(x)\n",
        "my_functional_model = tf.keras.Model(inputs=inputs,outputs=x)\n",
        "my_functional_model.summary()"
      ],
      "execution_count": 69,
      "outputs": [
        {
          "output_type": "stream",
          "text": [
            "Model: \"functional_3\"\n",
            "_________________________________________________________________\n",
            "Layer (type)                 Output Shape              Param #   \n",
            "=================================================================\n",
            "input_2 (InputLayer)         [(None, 3)]               0         \n",
            "_________________________________________________________________\n",
            "flexible_dense_5 (FlexibleDe (None, 3)                 12        \n",
            "_________________________________________________________________\n",
            "flexible_dense_6 (FlexibleDe (None, 2)                 8         \n",
            "=================================================================\n",
            "Total params: 20\n",
            "Trainable params: 20\n",
            "Non-trainable params: 0\n",
            "_________________________________________________________________\n"
          ],
          "name": "stdout"
        }
      ]
    },
    {
      "cell_type": "code",
      "metadata": {
        "id": "ZFXEvtvCPEhD",
        "colab_type": "code",
        "colab": {
          "base_uri": "https://localhost:8080/",
          "height": 54
        },
        "outputId": "588e57e3-12a8-45f0-cedb-79b1db2b1b63"
      },
      "source": [
        "my_functional_model(tf.constant([[2.0,2.0,2.0]]))"
      ],
      "execution_count": 70,
      "outputs": [
        {
          "output_type": "execute_result",
          "data": {
            "text/plain": [
              "<tf.Tensor: shape=(1, 2), dtype=float32, numpy=array([[ 2.8367457, 20.757769 ]], dtype=float32)>"
            ]
          },
          "metadata": {
            "tags": []
          },
          "execution_count": 70
        }
      ]
    },
    {
      "cell_type": "markdown",
      "metadata": {
        "id": "rJDztderPOvS",
        "colab_type": "text"
      },
      "source": [
        "The major difference here is that input shape is specified up front as the part of the functional construction process. The `input_shape` argument in this case does not have to be completely specified; you can leave some dimensions as `None`"
      ]
    },
    {
      "cell_type": "markdown",
      "metadata": {
        "id": "e_raVUKwPqhU",
        "colab_type": "text"
      },
      "source": [
        "#Saving Keras Models: \n",
        "\n",
        "Keras models can be checkpointed and that will look the same as `tf.Module`\n",
        "\n",
        "Kers models can also be saved with `tf.saved_models.save()` as the are modules. However, Keras models have convenience methods, and other functionality"
      ]
    },
    {
      "cell_type": "code",
      "metadata": {
        "id": "bNyCEK90PMr7",
        "colab_type": "code",
        "colab": {
          "base_uri": "https://localhost:8080/",
          "height": 34
        },
        "outputId": "84e298b0-0759-4061-c108-a8cab91296c0"
      },
      "source": [
        "my_functional_model.save(\"exname_of_file\")"
      ],
      "execution_count": 74,
      "outputs": [
        {
          "output_type": "stream",
          "text": [
            "INFO:tensorflow:Assets written to: exname_of_file/assets\n"
          ],
          "name": "stdout"
        }
      ]
    },
    {
      "cell_type": "code",
      "metadata": {
        "id": "_bGR64bSP_QN",
        "colab_type": "code",
        "colab": {
          "base_uri": "https://localhost:8080/",
          "height": 54
        },
        "outputId": "edb7f4da-5121-45c5-c4b4-0f6f5524b027"
      },
      "source": [
        "reconstructed_model = tf.keras.models.load_model(\"exname_of_file\")"
      ],
      "execution_count": 75,
      "outputs": [
        {
          "output_type": "stream",
          "text": [
            "WARNING:tensorflow:No training configuration found in save file, so the model was *not* compiled. Compile it manually.\n"
          ],
          "name": "stdout"
        }
      ]
    },
    {
      "cell_type": "code",
      "metadata": {
        "id": "M9D0EnENQJWQ",
        "colab_type": "code",
        "colab": {
          "base_uri": "https://localhost:8080/",
          "height": 54
        },
        "outputId": "5e1fa47f-b787-4193-9ea0-d81d7431f42f"
      },
      "source": [
        "reconstructed_model(tf.constant([[2.0,2.0,2.0]]))"
      ],
      "execution_count": 76,
      "outputs": [
        {
          "output_type": "execute_result",
          "data": {
            "text/plain": [
              "<tf.Tensor: shape=(1, 2), dtype=float32, numpy=array([[ 2.8367457, 20.757769 ]], dtype=float32)>"
            ]
          },
          "metadata": {
            "tags": []
          },
          "execution_count": 76
        }
      ]
    },
    {
      "cell_type": "code",
      "metadata": {
        "id": "uCLTl_UOQOFc",
        "colab_type": "code",
        "colab": {}
      },
      "source": [
        ""
      ],
      "execution_count": null,
      "outputs": []
    }
  ]
}