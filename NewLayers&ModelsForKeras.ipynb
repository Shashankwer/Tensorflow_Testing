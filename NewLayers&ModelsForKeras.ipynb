{
  "nbformat": 4,
  "nbformat_minor": 0,
  "metadata": {
    "colab": {
      "name": "NewLayers&ModelsForKeras",
      "provenance": [],
      "authorship_tag": "ABX9TyObYlM4Oy/Ee9hd2O4o2fNX",
      "include_colab_link": true
    },
    "kernelspec": {
      "name": "python3",
      "display_name": "Python 3"
    }
  },
  "cells": [
    {
      "cell_type": "markdown",
      "metadata": {
        "id": "view-in-github",
        "colab_type": "text"
      },
      "source": [
        "<a href=\"https://colab.research.google.com/github/Shashankwer/Tensorflow_Testing/blob/master/NewLayers%26ModelsForKeras.ipynb\" target=\"_parent\"><img src=\"https://colab.research.google.com/assets/colab-badge.svg\" alt=\"Open In Colab\"/></a>"
      ]
    },
    {
      "cell_type": "code",
      "metadata": {
        "id": "FwG8x9voXBAp",
        "colab_type": "code",
        "colab": {}
      },
      "source": [
        "import tensorflow as tf"
      ],
      "execution_count": 44,
      "outputs": []
    },
    {
      "cell_type": "markdown",
      "metadata": {
        "id": "BNvOB8EaWYHy",
        "colab_type": "text"
      },
      "source": [
        "Making new layers and Models via Subclassing\n",
        "\n",
        "## The Layer class: the combination of state (weights) and some computation\n",
        "\n",
        "Keras the layer class is the center for all the computation. A layer emcapsulates both the state (the \"layer's\" weight) and the transformation from the inputs to outputs (\"call\", the layer does the forward pass)"
      ]
    },
    {
      "cell_type": "code",
      "metadata": {
        "id": "4CE34oyu_ONt",
        "colab_type": "code",
        "colab": {}
      },
      "source": [
        "class Linear(tf.keras.layers.Layer):\n",
        "  def __init__(self,units=32,input_dim = 32):\n",
        "    super(Linear,self).__init__()\n",
        "    w_init = tf.random_normal_initializer()\n",
        "    self.w = tf.Variable(initial_value = w_init(shape=(input_dim,units),dtype=\"float32\"),trainable=True)\n",
        "    b_init = tf.zeros_initializer()\n",
        "    self.b = tf.Variable(initial_value=b_init(shape=(units),dtype=\"float32\"),trainable=True)\n",
        "\n",
        "  def call(self,inputs):\n",
        "    return tf.matmul(inputs,self.w)+self.b"
      ],
      "execution_count": 2,
      "outputs": []
    },
    {
      "cell_type": "code",
      "metadata": {
        "id": "ERyY-LiAY8g8",
        "colab_type": "code",
        "colab": {
          "base_uri": "https://localhost:8080/",
          "height": 88
        },
        "outputId": "8140ba53-006e-481d-a332-4bd375906247"
      },
      "source": [
        "x = tf.ones((2,2))\n",
        "linear_layer = Linear(4,2)\n",
        "y = linear_layer(x)\n",
        "print(y)"
      ],
      "execution_count": 3,
      "outputs": [
        {
          "output_type": "stream",
          "text": [
            "tf.Tensor(\n",
            "[[-0.12226717  0.03650273  0.16900161  0.02193409]\n",
            " [-0.12226717  0.03650273  0.16900161  0.02193409]], shape=(2, 4), dtype=float32)\n"
          ],
          "name": "stdout"
        }
      ]
    },
    {
      "cell_type": "code",
      "metadata": {
        "id": "YdQO7XZGZCqj",
        "colab_type": "code",
        "colab": {}
      },
      "source": [
        "assert linear_layer.weights == [linear_layer.w,linear_layer.b]"
      ],
      "execution_count": 4,
      "outputs": []
    },
    {
      "cell_type": "code",
      "metadata": {
        "id": "gzgVuZbVZM4j",
        "colab_type": "code",
        "colab": {
          "base_uri": "https://localhost:8080/",
          "height": 122
        },
        "outputId": "2a114c30-ada9-4e3b-ac26-59128794cbdb"
      },
      "source": [
        "linear_layer.weights"
      ],
      "execution_count": 5,
      "outputs": [
        {
          "output_type": "execute_result",
          "data": {
            "text/plain": [
              "[<tf.Variable 'Variable:0' shape=(2, 4) dtype=float32, numpy=\n",
              " array([[-0.1118763 ,  0.03389191,  0.02263258, -0.02431311],\n",
              "        [-0.01039087,  0.00261082,  0.14636903,  0.0462472 ]],\n",
              "       dtype=float32)>,\n",
              " <tf.Variable 'Variable:0' shape=(4,) dtype=float32, numpy=array([0., 0., 0., 0.], dtype=float32)>]"
            ]
          },
          "metadata": {
            "tags": []
          },
          "execution_count": 5
        }
      ]
    },
    {
      "cell_type": "code",
      "metadata": {
        "id": "IzDfDlhsZQok",
        "colab_type": "code",
        "colab": {}
      },
      "source": [
        "class Linear(tf.keras.layers.Layer):\n",
        "  def __init__(self,units=32,input_dim=32):\n",
        "    super(Linear,self).__init__()\n",
        "    self.w = self.add_weight(shape=(input_dim,units),dtype=\"float32\",initializer=\"random_normal\",trainable=True)\n",
        "    self.b = self.add_weight(shape=(input_dim,units),dtype=\"float32\",initializer=\"zeros\",trainable=True)\n",
        "\n",
        "  def call(self,inputs):\n",
        "    return tf.matmul(inputs,self.w)+self.b"
      ],
      "execution_count": 6,
      "outputs": []
    },
    {
      "cell_type": "code",
      "metadata": {
        "id": "fXVeNBExZ5Ov",
        "colab_type": "code",
        "colab": {
          "base_uri": "https://localhost:8080/",
          "height": 88
        },
        "outputId": "584e3656-46cc-4c09-b5a4-44e0232c25b1"
      },
      "source": [
        "x = tf.ones((2,2))\n",
        "linear_layer = Linear(4,2)\n",
        "y = linear_layer(x)\n",
        "print(y)\n"
      ],
      "execution_count": 7,
      "outputs": [
        {
          "output_type": "stream",
          "text": [
            "tf.Tensor(\n",
            "[[-0.02819715 -0.05340973  0.05278432 -0.02962312]\n",
            " [-0.02819715 -0.05340973  0.05278432 -0.02962312]], shape=(2, 4), dtype=float32)\n"
          ],
          "name": "stdout"
        }
      ]
    },
    {
      "cell_type": "markdown",
      "metadata": {
        "id": "OEqRB-4paKqO",
        "colab_type": "text"
      },
      "source": [
        "### Layers can have non traiable weights: \n",
        "\n",
        "Besides trainable weights, one can add non trainable weights to a layer as well. Such weights are meant not to be taken into account during backpropogation"
      ]
    },
    {
      "cell_type": "code",
      "metadata": {
        "id": "RdpKIjzpaEbt",
        "colab_type": "code",
        "colab": {}
      },
      "source": [
        "class ComputeSum(tf.keras.layers.Layer):\n",
        "  def __init__(self,input_dim):\n",
        "    super(ComputeSum,self).__init__()\n",
        "    self.total = tf.Variable(initial_value=tf.zeros((input_dim,)),trainable=False)\n",
        "  \n",
        "  def call(self,inputs):\n",
        "    self.total.assign_add(tf.reduce_sum(inputs,axis=0))\n",
        "    return self.total\n"
      ],
      "execution_count": 8,
      "outputs": []
    },
    {
      "cell_type": "code",
      "metadata": {
        "id": "QE1HlUoFaz1X",
        "colab_type": "code",
        "colab": {
          "base_uri": "https://localhost:8080/",
          "height": 71
        },
        "outputId": "dcbe8866-5c68-407e-e39e-0dc4163e7ea3"
      },
      "source": [
        "x = tf.ones((2,2))\n",
        "sum = ComputeSum(2)\n",
        "y = sum(x)\n",
        "print(y.numpy(),y)\n",
        "y = sum(x)\n",
        "print(y.numpy())"
      ],
      "execution_count": 11,
      "outputs": [
        {
          "output_type": "stream",
          "text": [
            "[2. 2.] <tf.Variable 'Variable:0' shape=(2,) dtype=float32, numpy=array([2., 2.], dtype=float32)>\n",
            "[4. 4.]\n"
          ],
          "name": "stdout"
        }
      ]
    },
    {
      "cell_type": "markdown",
      "metadata": {
        "id": "oSLy0V0hcIkP",
        "colab_type": "text"
      },
      "source": [
        "Its a part of `layer.weights` but it gets categorized as a non trainable weight"
      ]
    },
    {
      "cell_type": "code",
      "metadata": {
        "id": "2LLaqdUXa71I",
        "colab_type": "code",
        "colab": {
          "base_uri": "https://localhost:8080/",
          "height": 68
        },
        "outputId": "887815d9-45c1-4550-f76e-d8eb446cb31b"
      },
      "source": [
        "print(\"weights:\",len(sum.weights))\n",
        "print(\"non-trainable weights:\",len(sum.non_trainable_weights))\n",
        "print(\"trainable_weight\",sum.trainable_weights)"
      ],
      "execution_count": 15,
      "outputs": [
        {
          "output_type": "stream",
          "text": [
            "weights: 1\n",
            "non-trainable weights: 1\n",
            "trainable_weight []\n"
          ],
          "name": "stdout"
        }
      ]
    },
    {
      "cell_type": "markdown",
      "metadata": {
        "id": "uDtvd4tVcohC",
        "colab_type": "text"
      },
      "source": [
        "###  Best practice: deffering weight creation unitl the shape of the inputs is known\n",
        "\n",
        "Our `Linear` layer above took an `input_dim` argument that was used to compute the shape of the weights `w` and `b` in `__init__()`"
      ]
    },
    {
      "cell_type": "code",
      "metadata": {
        "id": "ZZlLb9pycj5E",
        "colab_type": "code",
        "colab": {}
      },
      "source": [
        "class Linear(tf.keras.layers.Layer):\n",
        "  def __init__(self,units=32,input_dim=32):\n",
        "    super(Linear,self).__init__()\n",
        "    self.w = self.add_weight(shape=(input_dim,units),initializer=\"random_normal\",trainable=True)\n",
        "    self.b = self.add_weight(shape=(units),initializer=\"zeros\",trainable=True)\n",
        "  \n",
        "  def call(self,inputs):\n",
        "    return tf.matmul(inputs,self.w) + self.b"
      ],
      "execution_count": 17,
      "outputs": []
    },
    {
      "cell_type": "markdown",
      "metadata": {
        "id": "yFXdMXlxd3hM",
        "colab_type": "text"
      },
      "source": [
        "In many cases, one may know in advanced the size of inputs, and one would like to lazily create weights when that value becomes known, some time after instantiating the layer. \n",
        "\n",
        "In the Keras API, we recommed creating layer weights in `build(self,nputs_shape)` method of the layer"
      ]
    },
    {
      "cell_type": "code",
      "metadata": {
        "id": "7WqlyJ7ld0bz",
        "colab_type": "code",
        "colab": {}
      },
      "source": [
        "class Linear(tf.keras.layers.Layer):\n",
        "  def __init__(self,units=32):\n",
        "    super(Linear,self).__init__()\n",
        "    self.units = units\n",
        "\n",
        "  def build(self,input_shape):\n",
        "    self.w = self.add_weight(\n",
        "        shape = (input_shape[-1],self.units),\n",
        "        initializer = \"random_normal\",\n",
        "        trainable=True\n",
        "    )\n",
        "    self.b = self.add_weight(\n",
        "        shape = (self.units,),initializer=\"random_normal\",trainable=True\n",
        "    )\n",
        "  def call(self,inputs):\n",
        "    return tf.matmul(inputs,self.w)+self.b\n",
        "  \n",
        "  "
      ],
      "execution_count": 18,
      "outputs": []
    },
    {
      "cell_type": "markdown",
      "metadata": {
        "id": "aH46h1u3fMbK",
        "colab_type": "text"
      },
      "source": [
        "The `__call__()` method of the layer will automatically build the first time it is called. \n",
        "One now have a layer that's lazy and thus easier to use:"
      ]
    },
    {
      "cell_type": "code",
      "metadata": {
        "id": "HLui3hR1fKmr",
        "colab_type": "code",
        "colab": {}
      },
      "source": [
        "linear_layer = Linear(32)\n",
        "y = linear_layer(x)"
      ],
      "execution_count": 19,
      "outputs": []
    },
    {
      "cell_type": "code",
      "metadata": {
        "id": "BLfgtsb_ff5P",
        "colab_type": "code",
        "colab": {
          "base_uri": "https://localhost:8080/",
          "height": 326
        },
        "outputId": "7255c9af-a8c5-4392-feaa-8d89789d2ae9"
      },
      "source": [
        "print(y)"
      ],
      "execution_count": 20,
      "outputs": [
        {
          "output_type": "stream",
          "text": [
            "tf.Tensor(\n",
            "[[ 1.1270022e-01  2.1379441e-05 -4.2608008e-04  1.1688566e-02\n",
            "   1.2485644e-01  5.4375641e-04 -1.3976950e-02  1.1464427e-01\n",
            "   1.5625777e-02  2.5340907e-02 -2.2924103e-02 -9.9379949e-02\n",
            "  -3.2719336e-03  7.9196692e-02 -2.2497110e-01  7.1446546e-03\n",
            "   2.7232654e-03  3.7931837e-04  4.2238288e-02  1.2001923e-01\n",
            "   4.4987824e-02  9.9435344e-02  8.4922068e-02 -6.5496624e-02\n",
            "   1.1168520e-01  6.2112134e-02  1.3878196e-01  5.5522025e-03\n",
            "   1.3552085e-01  6.6318430e-02  7.8515515e-02 -1.1948916e-01]\n",
            " [ 1.1270022e-01  2.1379441e-05 -4.2608008e-04  1.1688566e-02\n",
            "   1.2485644e-01  5.4375641e-04 -1.3976950e-02  1.1464427e-01\n",
            "   1.5625777e-02  2.5340907e-02 -2.2924103e-02 -9.9379949e-02\n",
            "  -3.2719336e-03  7.9196692e-02 -2.2497110e-01  7.1446546e-03\n",
            "   2.7232654e-03  3.7931837e-04  4.2238288e-02  1.2001923e-01\n",
            "   4.4987824e-02  9.9435344e-02  8.4922068e-02 -6.5496624e-02\n",
            "   1.1168520e-01  6.2112134e-02  1.3878196e-01  5.5522025e-03\n",
            "   1.3552085e-01  6.6318430e-02  7.8515515e-02 -1.1948916e-01]], shape=(2, 32), dtype=float32)\n"
          ],
          "name": "stdout"
        }
      ]
    },
    {
      "cell_type": "markdown",
      "metadata": {
        "id": "9SWWPIenfmG4",
        "colab_type": "text"
      },
      "source": [
        "## Layers are recursively composable\n",
        "\n",
        "If one assign a Layer instance as attribute of another Layer, the outer layer will start tracking the weights of the inner layer. \n",
        "\n",
        "We recommend creating such sublayers in the `__init__()` method(since the sublayers will typically have a build method, they will be built when the outer layer gets built)\n"
      ]
    },
    {
      "cell_type": "code",
      "metadata": {
        "id": "MoNJZHb7fhNh",
        "colab_type": "code",
        "colab": {}
      },
      "source": [
        "class MLPBlock(tf.keras.layers.Layer):\n",
        "  def __init__(self):\n",
        "    super(MLPBlock,self).__init__()\n",
        "    self.linear_1 = Linear(32)\n",
        "    self.linear_2 = Linear(24)\n",
        "    self.linear_3 = Linear(1)\n",
        "  \n",
        "  def call(self,inputs):\n",
        "    x = self.linear_1(inputs)\n",
        "    x = tf.nn.relu(x)\n",
        "    x = self.linear_2(x)\n",
        "    x = tf.nn.relu(x)\n",
        "    return self.linear_3(x)"
      ],
      "execution_count": 21,
      "outputs": []
    },
    {
      "cell_type": "code",
      "metadata": {
        "id": "s4lCOIkWgyJO",
        "colab_type": "code",
        "colab": {
          "base_uri": "https://localhost:8080/",
          "height": 51
        },
        "outputId": "0545cfd6-5176-493f-db55-1d8b508c0434"
      },
      "source": [
        "mlp = MLPBlock()\n",
        "y = mlp(tf.ones(shape=(3,64))) # the first call to the `mlp` will create the weights\n",
        "print(\"weights:\",len(mlp.weights))\n",
        "print(\"trainable weights:\",len(mlp.trainable_weights))"
      ],
      "execution_count": 22,
      "outputs": [
        {
          "output_type": "stream",
          "text": [
            "weights: 6\n",
            "trainable weights: 6\n"
          ],
          "name": "stdout"
        }
      ]
    },
    {
      "cell_type": "markdown",
      "metadata": {
        "id": "l6J8mBH8hI_l",
        "colab_type": "text"
      },
      "source": [
        "### The `add_loss()` method\n",
        "\n",
        "When writing the `call()` method of a layer, one can create loss tensors that one will want to use later. When writing your training loop. This is doable loop. This is doable by calling `self.add_loss(value)`"
      ]
    },
    {
      "cell_type": "code",
      "metadata": {
        "id": "_mJO6PfNhFLQ",
        "colab_type": "code",
        "colab": {}
      },
      "source": [
        "#A layer creating active regularization: \n",
        "\n",
        "class ActivityRegularizationLayer(tf.keras.layers.Layer):\n",
        "  def __init__(self,rate=1e-2):\n",
        "    super(ActivityRegularizationLayer,self).__init__()\n",
        "    self.rate = rate\n",
        "  def call(self,inputs):\n",
        "    self.add_loss(self.rate*tf.reduce_sum(inputs))\n",
        "    return inputs"
      ],
      "execution_count": 25,
      "outputs": []
    },
    {
      "cell_type": "markdown",
      "metadata": {
        "id": "juTbWlIxh9gn",
        "colab_type": "text"
      },
      "source": [
        "These losses(including those created by any inner layer can be retrieved via `layer.losses`. This property is reset at the start of every `call` to the top-level layer, so that `layer.losses` always contains the loss values created during the last forward pass"
      ]
    },
    {
      "cell_type": "code",
      "metadata": {
        "id": "zFV4zPoWh7RI",
        "colab_type": "code",
        "colab": {}
      },
      "source": [
        "class OuterLayer(tf.keras.layers.Layer):\n",
        "  def __init__(self):\n",
        "    super(OuterLayer,self).__init__()\n",
        "    self.activity_reg = ActivityRegularizationLayer(1e-2)\n",
        "  \n",
        "  def call(self,inputs):\n",
        "    return self.activity_reg(inputs)"
      ],
      "execution_count": 30,
      "outputs": []
    },
    {
      "cell_type": "code",
      "metadata": {
        "id": "czWw4r27oUVA",
        "colab_type": "code",
        "colab": {}
      },
      "source": [
        "layer = OuterLayer()\n",
        "assert len(layer.losses)==0 # No losses yet since the layer has never been called\n",
        "\n",
        "_ = layer(tf.zeros(1,1))\n",
        "assert len(layer.losses) == 1 #The loss is created\n",
        "\n"
      ],
      "execution_count": 31,
      "outputs": []
    },
    {
      "cell_type": "code",
      "metadata": {
        "id": "SYfpbKRoo1BH",
        "colab_type": "code",
        "colab": {
          "base_uri": "https://localhost:8080/",
          "height": 34
        },
        "outputId": "4d5c48fd-79dc-4417-b71d-8064f2a4b375"
      },
      "source": [
        "class OuterLayerWithKernelRegularizer(tf.keras.layers.Layer):\n",
        "  def __init__(self):\n",
        "    super(OuterLayerWithKernelRegularizer,self).__init__()\n",
        "    self.dense = tf.keras.layers.Dense(32,kernel_regularizer=tf.keras.regularizers.l2(1e-4))\n",
        "  \n",
        "  def call(self,inputs):\n",
        "    return self.dense(inputs)\n",
        "\n",
        "layer = OuterLayerWithKernelRegularizer()\n",
        "_ = layer(tf.zeros((1,1)))\n",
        "\n",
        "print(layer.losses)"
      ],
      "execution_count": 35,
      "outputs": [
        {
          "output_type": "stream",
          "text": [
            "[<tf.Tensor: shape=(), dtype=float32, numpy=0.0001536563>]\n"
          ],
          "name": "stdout"
        }
      ]
    },
    {
      "cell_type": "code",
      "metadata": {
        "id": "onN69NKcplk6",
        "colab_type": "code",
        "colab": {}
      },
      "source": [
        "optimizer = tf.keras.optimizers.SGD(learning_rate=1e-3)\n",
        "loss_fn = tf.keras.losses.SparseCategoricalCrossentropy(from_logits = True)\n",
        "\n",
        "for x_batch_train,y_batch_train in train_dataset:\n",
        "  with tf.GradientTape() as tape:\n",
        "    logits = layer(x_batch_train)\n",
        "    loss_value = loss_fn(y_batch_train,logits)\n",
        "    loss_value+= sum(model.losses)\n",
        "  grads = tape.gradient(loss_value,model.trainable_weights)\n",
        "  optimizer.apply_gradients(zip(grads,model.trainable_weights))\n",
        "\n",
        "#The losses gets automatically summed using tf.keras.fit()"
      ],
      "execution_count": null,
      "outputs": []
    },
    {
      "cell_type": "code",
      "metadata": {
        "id": "DxMznGhVq88q",
        "colab_type": "code",
        "colab": {
          "base_uri": "https://localhost:8080/",
          "height": 51
        },
        "outputId": "2864f430-28ca-44ce-d0b2-5d356e877eef"
      },
      "source": [
        "import numpy as np\n",
        "inputs = tf.keras.Input(shape=(3,))\n",
        "outputs = ActivityRegularizationLayer()(inputs)\n",
        "model = tf.keras.Model(inputs,outputs)\n",
        "\n",
        "model.compile(optimizer = \"adam\",loss=\"mse\")\n",
        "model.fit(np.random.random((2,3)),np.random.random((2,3)))"
      ],
      "execution_count": 39,
      "outputs": [
        {
          "output_type": "stream",
          "text": [
            "1/1 [==============================] - 0s 1ms/step - loss: 0.1024\n"
          ],
          "name": "stdout"
        },
        {
          "output_type": "execute_result",
          "data": {
            "text/plain": [
              "<tensorflow.python.keras.callbacks.History at 0x7fe123989128>"
            ]
          },
          "metadata": {
            "tags": []
          },
          "execution_count": 39
        }
      ]
    },
    {
      "cell_type": "code",
      "metadata": {
        "id": "2455Td1XrY30",
        "colab_type": "code",
        "colab": {
          "base_uri": "https://localhost:8080/",
          "height": 51
        },
        "outputId": "06fe20bd-0de9-4626-9802-c3f79948bbbd"
      },
      "source": [
        "#it is also possible to not pass the loss as the loss associated with a layer is already added in here\n",
        "\n",
        "model.compile(optimizer=\"adam\")\n",
        "model.fit(np.random.random((2,3)),np.random.random((2,3)))"
      ],
      "execution_count": 43,
      "outputs": [
        {
          "output_type": "stream",
          "text": [
            "1/1 [==============================] - 0s 2ms/step - loss: 0.0327\n"
          ],
          "name": "stdout"
        },
        {
          "output_type": "execute_result",
          "data": {
            "text/plain": [
              "<tensorflow.python.keras.callbacks.History at 0x7fe124207b70>"
            ]
          },
          "metadata": {
            "tags": []
          },
          "execution_count": 43
        }
      ]
    },
    {
      "cell_type": "code",
      "metadata": {
        "id": "Q1V5NW2Zrt9J",
        "colab_type": "code",
        "colab": {
          "base_uri": "https://localhost:8080/",
          "height": 51
        },
        "outputId": "a4d34631-9e4f-455a-9b8d-77a9f4f2b3c2"
      },
      "source": [
        "np.random.random((2,3))"
      ],
      "execution_count": 41,
      "outputs": [
        {
          "output_type": "execute_result",
          "data": {
            "text/plain": [
              "array([[0.82085334, 0.3509551 , 0.56552574],\n",
              "       [0.96481398, 0.62101046, 0.05420924]])"
            ]
          },
          "metadata": {
            "tags": []
          },
          "execution_count": 41
        }
      ]
    },
    {
      "cell_type": "markdown",
      "metadata": {
        "id": "uqhudyDAG20P",
        "colab_type": "text"
      },
      "source": [
        "# The `add_metric()` method:\n",
        "\n",
        "Similar to `add_loss()`, layers also have an `add_metric()` method for tracking the moving avergage of quantity during training. \n",
        "\n",
        "Consider the following layer: a \"logistic endpoint\" layer. It takes as input predictions and targets, it computes the loss as it targets through `add_loss()` and accuracy through the scalar `add_metric()`"
      ]
    },
    {
      "cell_type": "code",
      "metadata": {
        "id": "sh3mpmn6rykB",
        "colab_type": "code",
        "colab": {}
      },
      "source": [
        "class LogisticEndpoint(tf.keras.layers.Layer):\n",
        "  def __init__(self,name=None):\n",
        "    super(LogisticEndpoint,self).__init__(name)\n",
        "    self.loss_fn = tf.keras.losses.BinaryCrossentropy(from_logits=True)\n",
        "    self.accuracy_fn = tf.keras.metrics.BinaryAccuracy()\n",
        "  def call(self,targets,logits,sample_weights=None):\n",
        "    #to compute the training time loss the loss is added to the self.add_loss()\n",
        "    loss = self.loss_fn(targets,logits,sample_weights)\n",
        "    self.add_loss(loss)\n",
        "    #accuracy as a metric and is added using self.add_metric\n",
        "    acc =self.accuracy_fn(targets,logits,sample_weights)\n",
        "    self.add_metric(acc,name=\"accuracy\")\n",
        "    return tf.nn.softmax(logits)"
      ],
      "execution_count": 68,
      "outputs": []
    },
    {
      "cell_type": "code",
      "metadata": {
        "id": "JvP5OQ4lIM_k",
        "colab_type": "code",
        "colab": {
          "base_uri": "https://localhost:8080/",
          "height": 54
        },
        "outputId": "4226dc2f-cdf0-49aa-878b-bfbc16de4f23"
      },
      "source": [
        "#metrics are tracked using layers.metric\n",
        "\n",
        "layer = LogisticEndpoint()\n",
        "\n",
        "target = tf.ones((2,2))\n",
        "#logits = tf.random.normal((2,2))\n",
        "logits =tf.ones((2,2))\n",
        "y = layer(target,logits)\n",
        "print(\"layer.metric\",layer.metrics)"
      ],
      "execution_count": 69,
      "outputs": [
        {
          "output_type": "stream",
          "text": [
            "layer.metric [<tensorflow.python.keras.metrics.BinaryAccuracy object at 0x7fe12068ed30>]\n"
          ],
          "name": "stdout"
        }
      ]
    },
    {
      "cell_type": "code",
      "metadata": {
        "id": "u44U9LeHIh3m",
        "colab_type": "code",
        "colab": {
          "base_uri": "https://localhost:8080/",
          "height": 34
        },
        "outputId": "62666538-5eb3-45f1-a7e4-51aec6155b24"
      },
      "source": [
        "print(\"current accuracy value\", float(layer.metrics[0].result()))"
      ],
      "execution_count": 70,
      "outputs": [
        {
          "output_type": "stream",
          "text": [
            "current accuracy value 1.0\n"
          ],
          "name": "stdout"
        }
      ]
    },
    {
      "cell_type": "code",
      "metadata": {
        "id": "nqFN0jOIIrTX",
        "colab_type": "code",
        "colab": {
          "base_uri": "https://localhost:8080/",
          "height": 34
        },
        "outputId": "7bbb1e5f-b349-4e7e-fd77-b71ada0cdf27"
      },
      "source": [
        "print(\"current loss value\", layer.losses)"
      ],
      "execution_count": 71,
      "outputs": [
        {
          "output_type": "stream",
          "text": [
            "current loss value [<tf.Tensor: shape=(), dtype=float32, numpy=0.3132617>]\n"
          ],
          "name": "stdout"
        }
      ]
    },
    {
      "cell_type": "code",
      "metadata": {
        "id": "Y09oazC5JCNd",
        "colab_type": "code",
        "colab": {
          "base_uri": "https://localhost:8080/",
          "height": 68
        },
        "outputId": "83cf915d-b661-4e61-8129-b81996ffc34e"
      },
      "source": [
        "print(y)"
      ],
      "execution_count": 72,
      "outputs": [
        {
          "output_type": "stream",
          "text": [
            "tf.Tensor(\n",
            "[[0.5 0.5]\n",
            " [0.5 0.5]], shape=(2, 2), dtype=float32)\n"
          ],
          "name": "stdout"
        }
      ]
    },
    {
      "cell_type": "markdown",
      "metadata": {
        "id": "eMwDvHsMJphC",
        "colab_type": "text"
      },
      "source": [
        "#Enabling serializable on the layer\n",
        "\n",
        "\n",
        "Using the `get_config()` method for making the function serializable"
      ]
    },
    {
      "cell_type": "code",
      "metadata": {
        "id": "GiyCBdfUJdbm",
        "colab_type": "code",
        "colab": {}
      },
      "source": [
        "class Linear(tf.keras.layers.Layer):\n",
        "  def __init__(self,units=32):\n",
        "    super(Linear,self).__init__()\n",
        "    self.units=units\n",
        "  def build(self,input_shape):\n",
        "    self.w = self.add_weight(shape=(input_shape[-1],self.units),dtype=\"float32\",initializer=\"random_normal\",trainable=True)\n",
        "    self.b = self.add_weight(shape=(units,),dtype='int32',init=\"zeros\")\n",
        "  \n",
        "  def call(self,inputs):\n",
        "    return tf.matmul(inputs,self.w)+self.b\n",
        "  \n",
        "  def get_config(self):\n",
        "    return {\"units\":self.units}"
      ],
      "execution_count": 73,
      "outputs": []
    },
    {
      "cell_type": "code",
      "metadata": {
        "id": "ouS1_NFrKp3c",
        "colab_type": "code",
        "colab": {
          "base_uri": "https://localhost:8080/",
          "height": 34
        },
        "outputId": "ba1bad04-621d-4f19-a705-9a3736248eeb"
      },
      "source": [
        "layer = Linear(64)\n",
        "config = layer.get_config()\n",
        "print(config)\n",
        "new_layer = Linear.from_config(config)"
      ],
      "execution_count": 74,
      "outputs": [
        {
          "output_type": "stream",
          "text": [
            "{'units': 64}\n"
          ],
          "name": "stdout"
        }
      ]
    },
    {
      "cell_type": "code",
      "metadata": {
        "id": "_xOGQEYKKzPZ",
        "colab_type": "code",
        "colab": {
          "base_uri": "https://localhost:8080/",
          "height": 34
        },
        "outputId": "edaae5f5-9f4d-41f5-91b9-adedd4b3ee81"
      },
      "source": [
        "new_layer.get_config()"
      ],
      "execution_count": 76,
      "outputs": [
        {
          "output_type": "execute_result",
          "data": {
            "text/plain": [
              "{'units': 64}"
            ]
          },
          "metadata": {
            "tags": []
          },
          "execution_count": 76
        }
      ]
    },
    {
      "cell_type": "markdown",
      "metadata": {
        "id": "LrJ6IRcGLAgc",
        "colab_type": "text"
      },
      "source": [
        "The `__init__()` method of the base Layer class takes the arguments  name and dtype and the same arguments are passed to the parent class in `__init__()` and to include them in the layer config:"
      ]
    },
    {
      "cell_type": "code",
      "metadata": {
        "id": "FG8kZPOZK4Vs",
        "colab_type": "code",
        "colab": {}
      },
      "source": [
        "class Linear(tf.keras.layers.Layer):\n",
        "  def __init__(self,units=32,**kwargs):\n",
        "    super(Linear,self).__init__(**kwargs)\n",
        "    self.units = units\n",
        "\n",
        "  def build(self,input_shape):\n",
        "    self.w = self.add_weight(shape=(input_shape[-1],self.units),initializer='random_normla',trainable=True)\n",
        "    self.b = self.add_weight(shape=(self.units),initializer=\"random_normal\",trainable=True)\n",
        "  \n",
        "  def call(self,inputs):\n",
        "    return tf.matmul(inputs,self.w)+self.b\n",
        "  \n",
        "  def get_config(self):\n",
        "    config = super(Linear,self).get_config()\n",
        "    config.update({\"units\":self.units})\n",
        "    return config"
      ],
      "execution_count": 80,
      "outputs": []
    },
    {
      "cell_type": "code",
      "metadata": {
        "id": "ceEvBjFfMIMa",
        "colab_type": "code",
        "colab": {
          "base_uri": "https://localhost:8080/",
          "height": 34
        },
        "outputId": "1bfe662b-dad8-4bf0-f5a8-424db90fb9f1"
      },
      "source": [
        "x = Linear(64)\n",
        "print(x.get_config())"
      ],
      "execution_count": 81,
      "outputs": [
        {
          "output_type": "stream",
          "text": [
            "{'name': 'linear_9', 'trainable': True, 'dtype': 'float32', 'units': 64}\n"
          ],
          "name": "stdout"
        }
      ]
    },
    {
      "cell_type": "markdown",
      "metadata": {
        "id": "N77nGI_nMW8V",
        "colab_type": "text"
      },
      "source": [
        "#Priviledged training argument in call() method:\n",
        "\n",
        "\n",
        "Some layers, in particular the `BatchNormalization` layer and the `Dropout` layer have different behaviors during the training and inference. For such layers it is standard practice to expose the training boolean value during the built in call() method\n",
        "\n",
        "By exposing this argument in `call()`, one enable the built in training evaluation loops (`fit()`) to correctly use the layer during training and evaluation"
      ]
    },
    {
      "cell_type": "code",
      "metadata": {
        "id": "uj_5SmvPMNvt",
        "colab_type": "code",
        "colab": {}
      },
      "source": [
        "class CustomDropout(tf.keras.layers.Layer):\n",
        "  def __init__(self,rate,**kwargs):\n",
        "    super(CustomDroput,self).__init__(**kwargs)\n",
        "    self.rate=rate\n",
        "  def call(self,inputs,training=None):\n",
        "    if training:\n",
        "      return tf.nn.dropout(inputs,rate=self.rate)\n",
        "    return inputs"
      ],
      "execution_count": 83,
      "outputs": []
    },
    {
      "cell_type": "markdown",
      "metadata": {
        "id": "yDaauT54NfMp",
        "colab_type": "text"
      },
      "source": [
        "### The priviliege mask method call()\n",
        "\n",
        "The other privilege method is supported by `call()` in the mask method. \n",
        "\n",
        "It is a booloean method used in (RNN) to skip certain timestamp when processing timestamp data\n",
        "\n",
        "## The `Model class`\n",
        "\n",
        "The model class has the same evaluation methods like layers layer with following differences: \n",
        "\n",
        "1. It exposes the builtin training, evaluating(model.fit(),model.evaluate(),model.predict())\n",
        "2. It exposes the list of inner layers using `model.layers` property\n",
        "3.It exposes the saving a serializable API (tf.save, tf.save-weights)\n",
        "\n",
        "In Summary\n",
        "\n",
        "1.  A `Layer` encapsulates a state (created in `__init__()` or `build()` and some computation defined in `call()`)\n",
        "2. Layers can be reusrsively nested to track loss using add_loss() and add_metrics\n",
        "3. The outer container, the thing that we wish to train is a Model. A  `Model` is just like a training layer with added training and serializable units. \n",
        "\n",
        "\n",
        "\n"
      ]
    },
    {
      "cell_type": "code",
      "metadata": {
        "id": "SFzH2rUdNTMK",
        "colab_type": "code",
        "colab": {}
      },
      "source": [
        "from tensorflow.keras import layers\n",
        "\n",
        "class Sampling(layers.Layer):\n",
        "  \"\"\"Uses (z_mean,z_log_var) to sample, the vector encoding a digit .\"\"\"\n",
        "  def call(self,inputs):\n",
        "    z_mean,z_log_var = inputs\n",
        "    batch = tf.shape(z_mean)[0]\n",
        "    dim = tf.shape(z_mean)[1]\n",
        "    epsilon = tf.keras.backend.random_normal(shape=(batch,dim))\n",
        "    return z_mean + tf.exp(0.5* z_log_var) * epsilon\n",
        "    "
      ],
      "execution_count": 84,
      "outputs": []
    },
    {
      "cell_type": "code",
      "metadata": {
        "id": "C97ByC9VW-pT",
        "colab_type": "code",
        "colab": {}
      },
      "source": [
        "class Encoder(layers.Layer):\n",
        "  \"\"\"Maps MNIST digits to a triplet (z_mean,z_log_var,z)\"\"\"\n",
        "\n",
        "  def __init__(self,latent_dim=32,intermediate_dim=64,name=\"encoder\",**kwargs):\n",
        "    super(Encoder,self).__init__(name=name,**kwargs)\n",
        "    self.dense_proj = layers.Dense(intermediate_dim,activation=\"relu\")\n",
        "    self.dense_mean = layers.Dense(latent_dim)\n",
        "    self.dense_log_var = layers.Dense(latent_dim)\n",
        "    self.sampling = Sampling()\n",
        "  \n",
        "  def call(self,inputs):\n",
        "    x = self.dense_proj(inputs)\n",
        "    z_mean = self.dense_mean(x)\n",
        "    z_log_var = self.dense_log_var(x)\n",
        "    z = self.sampling((z_mean,z_log_var))\n",
        "    return z_mean,z_log_var,z\n",
        "\n",
        "class Decoder(layers.Layer):\n",
        "  \"\"\"Converts z, the encoded digit vector, back into a readable digit.\"\"\"\n",
        "  def __init__(self,original_dim,intermediate_dim=64,name=\"decoder\",**kwargs):\n",
        "    super(Decoder,self).__init__(name=name,**kwargs)\n",
        "    self.dense_proj = layers.Dense(intermediate_dim,activation=\"relu\")\n",
        "    self.dense_output = layers.Dense(original_dim,activation=\"sigmoid\")\n",
        "  \n",
        "  def call(self,inputs):\n",
        "    x = self.dense_proj(inputs)\n",
        "    return self.dense_output(x)"
      ],
      "execution_count": 87,
      "outputs": []
    },
    {
      "cell_type": "code",
      "metadata": {
        "id": "SoY1uWz5ZqiC",
        "colab_type": "code",
        "colab": {}
      },
      "source": [
        "class VariationalAutoEncoder(tf.keras.Model):\n",
        "  \"\"\"Combines the encoder and decoder into an end to end model for training.\"\"\"\n",
        "  def __init__(self,original_dim,intermediate_dim=64,latent_dim=32,name=\"autoencoder\",**kwargs):\n",
        "    super(VariationalAutoEncoder,self).__init__(name=name,**kwargs)\n",
        "    self.original_dim=original_dim\n",
        "    self.encoder = Encoder(latent_dim = latent_dim,intermediate_dim=intermediate_dim)\n",
        "    self.decoder = Decoder(original_dim,intermediate_dim=intermediate_dim)\n",
        "  def call(self,inputs):\n",
        "    z_mean,z_log_var,z = self.encoder(inputs)\n",
        "    reconstructed = self.decoder(z)\n",
        "    #Add KL divergence regularization loss. \n",
        "    kl_loss = -0.5* tf.reduce_mean(z_log_var - tf.square(z_mean) - tf.exp(z_log_var)+1)\n",
        "    self.add_loss(kl_loss)\n",
        "    return reconstructed"
      ],
      "execution_count": 88,
      "outputs": []
    },
    {
      "cell_type": "code",
      "metadata": {
        "id": "9G_il6QAcdfm",
        "colab_type": "code",
        "colab": {
          "base_uri": "https://localhost:8080/",
          "height": 697
        },
        "outputId": "b5dff965-836b-409a-d85d-a030fe60322d"
      },
      "source": [
        "original_dim = 784\n",
        "vae = VariationalAutoEncoder(original_dim,64,32)\n",
        "optimizer=tf.keras.optimizers.Adam(learning_rate=1e-3)\n",
        "mse_loss_fn = tf.keras.losses.MeanSquaredError()\n",
        "loss_metric = tf.keras.metrics.Mean()\n",
        "(x_train,_),_ = tf.keras.datasets.mnist.load_data()\n",
        "x_train = x_train.reshape(60000,784).astype(\"float32\")/255\n",
        "train_dataset = tf.data.Dataset.from_tensor_slices(x_train)\n",
        "train_dataset = train_dataset.shuffle(buffer_size=1024).batch(32)\n",
        "\n",
        "epochs=2\n",
        "\n",
        "for epoch in range(epochs):\n",
        "  print(\"Start of epoch %d\"%(epoch,))\n",
        "\n",
        "  for step,x_batch_train in enumerate(train_dataset):\n",
        "    with tf.GradientTape() as tape:\n",
        "      reconstructed = vae(x_batch_train)\n",
        "      loss = mse_loss_fn(x_batch_train,reconstructed)\n",
        "      #print(loss,sum(vae.losses))\n",
        "      loss+=vae.losses[0] # adding the KLD regularization loss\n",
        "    \n",
        "    grads =tape.gradient(loss,vae.trainable_weights)\n",
        "    optimizer.apply_gradients(zip(grads,vae.trainable_weights))\n",
        "    loss_metric(loss)\n",
        "    if step%100==0:\n",
        "      print(\"step %d: mean loss = %.4f\"%(step,loss_metric.result()))"
      ],
      "execution_count": 103,
      "outputs": [
        {
          "output_type": "stream",
          "text": [
            "Start of epoch 0\n",
            "step 0: mean loss = 0.3259\n",
            "step 100: mean loss = 0.1268\n",
            "step 200: mean loss = 0.1002\n",
            "step 300: mean loss = 0.0900\n",
            "step 400: mean loss = 0.0849\n",
            "step 500: mean loss = 0.0818\n",
            "step 600: mean loss = 0.0793\n",
            "step 700: mean loss = 0.0779\n",
            "step 800: mean loss = 0.0767\n",
            "step 900: mean loss = 0.0758\n",
            "step 1000: mean loss = 0.0748\n",
            "step 1100: mean loss = 0.0741\n",
            "step 1200: mean loss = 0.0736\n",
            "step 1300: mean loss = 0.0732\n",
            "step 1400: mean loss = 0.0727\n",
            "step 1500: mean loss = 0.0724\n",
            "step 1600: mean loss = 0.0721\n",
            "step 1700: mean loss = 0.0718\n",
            "step 1800: mean loss = 0.0715\n",
            "Start of epoch 1\n",
            "step 0: mean loss = 0.0713\n",
            "step 100: mean loss = 0.0711\n",
            "step 200: mean loss = 0.0710\n",
            "step 300: mean loss = 0.0708\n",
            "step 400: mean loss = 0.0707\n",
            "step 500: mean loss = 0.0706\n",
            "step 600: mean loss = 0.0705\n",
            "step 700: mean loss = 0.0704\n",
            "step 800: mean loss = 0.0703\n",
            "step 900: mean loss = 0.0702\n",
            "step 1000: mean loss = 0.0701\n",
            "step 1100: mean loss = 0.0700\n",
            "step 1200: mean loss = 0.0699\n",
            "step 1300: mean loss = 0.0699\n",
            "step 1400: mean loss = 0.0698\n",
            "step 1500: mean loss = 0.0697\n",
            "step 1600: mean loss = 0.0696\n",
            "step 1700: mean loss = 0.0695\n",
            "step 1800: mean loss = 0.0695\n"
          ],
          "name": "stdout"
        }
      ]
    },
    {
      "cell_type": "code",
      "metadata": {
        "id": "PF2hOqhLeHsV",
        "colab_type": "code",
        "colab": {
          "base_uri": "https://localhost:8080/",
          "height": 139
        },
        "outputId": "1e73e96f-300a-466e-8adf-be2feaac947a"
      },
      "source": [
        "vae = VariationalAutoEncoder(784,64,32)\n",
        "optimizeer = tf.keras.optimizers.Adam(learning_rate=1e-3)\n",
        "\n",
        "vae.compile(optimizer,loss=tf.keras.losses.MeanSquaredError())\n",
        "vae.fit(x_train,x_train,epochs=2,batch_size=32)"
      ],
      "execution_count": 105,
      "outputs": [
        {
          "output_type": "stream",
          "text": [
            "Epoch 1/2\n",
            "WARNING:tensorflow:5 out of the last 5 calls to <function Model.make_train_function.<locals>.train_function at 0x7fe1205f4378> triggered tf.function retracing. Tracing is expensive and the excessive number of tracings could be due to (1) creating @tf.function repeatedly in a loop, (2) passing tensors with different shapes, (3) passing Python objects instead of tensors. For (1), please define your @tf.function outside of the loop. For (2), @tf.function has experimental_relax_shapes=True option that relaxes argument shapes that can avoid unnecessary retracing. For (3), please refer to https://www.tensorflow.org/tutorials/customization/performance#python_or_tensor_args and https://www.tensorflow.org/api_docs/python/tf/function for  more details.\n",
            "1875/1875 [==============================] - 4s 2ms/step - loss: 0.0685\n",
            "Epoch 2/2\n",
            "1875/1875 [==============================] - 4s 2ms/step - loss: 0.0675\n"
          ],
          "name": "stdout"
        },
        {
          "output_type": "execute_result",
          "data": {
            "text/plain": [
              "<tensorflow.python.keras.callbacks.History at 0x7fe120035ef0>"
            ]
          },
          "metadata": {
            "tags": []
          },
          "execution_count": 105
        }
      ]
    },
    {
      "cell_type": "code",
      "metadata": {
        "id": "PLyzCvRlg29B",
        "colab_type": "code",
        "colab": {
          "base_uri": "https://localhost:8080/",
          "height": 374
        },
        "outputId": "4acb635f-06d4-428e-f1f5-4968f0459558"
      },
      "source": [
        "original_dim =784\n",
        "intermediate_dim =256\n",
        "latent_dim = 128\n",
        "\n",
        "original_inputs = tf.keras.Input(shape=(original_dim,),name=\"encoder_input\")\n",
        "x = layers.Dense(intermediate_dim,activation=\"relu\")(original_inputs)\n",
        "z_mean = layers.Dense(latent_dim,name=\"z_mean\")(x)\n",
        "z_log_var = layers.Dense(latent_dim,name=\"z_log_var\")(x)\n",
        "z = Sampling()((z_mean,z_log_var))\n",
        "encoder = tf.keras.Model(inputs=original_inputs,outputs=z,name=\"encoder\")\n",
        "#Define the decoder model\n",
        "\n",
        "latent_inputs = tf.keras.Input(shape=(latent_dim,),name=\"z_sampling\")\n",
        "x = layers.Dense(intermediate_dim,activation=\"relu\")(latent_inputs)\n",
        "x = layers.Dense(original_dim,activation=\"sigmoid\")(x)\n",
        "decoder = tf.keras.Model(inputs=latent_inputs,outputs=x,name=\"decoder\")\n",
        "\n",
        "#Defining the VAE model\n",
        "\n",
        "outputs = decoder(z)\n",
        "vae = tf.keras.Model(inputs=original_inputs,outputs=outputs,name=\"vae\")\n",
        "kl_loss = -0.5 * tf.reduce_sum(z_log_var-tf.square(z_mean)-tf.exp(z_log_var)+1)\n",
        "vae.add_loss(kl_loss)\n",
        "vae.compile(optimizer=tf.keras.optimizers.Adam(learning_rate=1e-3),loss=tf.keras.losses.MeanSquaredError())\n",
        "vae.fit(x_train,x_train,epochs=10,batch_size=32)\n",
        "\n"
      ],
      "execution_count": 144,
      "outputs": [
        {
          "output_type": "stream",
          "text": [
            "Epoch 1/10\n",
            "1875/1875 [==============================] - 11s 6ms/step - loss: 0.5793\n",
            "Epoch 2/10\n",
            "1875/1875 [==============================] - 10s 6ms/step - loss: 0.0681\n",
            "Epoch 3/10\n",
            "1875/1875 [==============================] - 11s 6ms/step - loss: 0.0678\n",
            "Epoch 4/10\n",
            "1875/1875 [==============================] - 11s 6ms/step - loss: 0.0677\n",
            "Epoch 5/10\n",
            "1875/1875 [==============================] - 11s 6ms/step - loss: 0.0677\n",
            "Epoch 6/10\n",
            "1875/1875 [==============================] - 11s 6ms/step - loss: 0.0676\n",
            "Epoch 7/10\n",
            "1875/1875 [==============================] - 11s 6ms/step - loss: 0.0676\n",
            "Epoch 8/10\n",
            "1875/1875 [==============================] - 11s 6ms/step - loss: 0.0676\n",
            "Epoch 9/10\n",
            "1875/1875 [==============================] - 11s 6ms/step - loss: 0.0675\n",
            "Epoch 10/10\n",
            "1875/1875 [==============================] - 11s 6ms/step - loss: 0.0675\n"
          ],
          "name": "stdout"
        },
        {
          "output_type": "execute_result",
          "data": {
            "text/plain": [
              "<tensorflow.python.keras.callbacks.History at 0x7fe11aaf86a0>"
            ]
          },
          "metadata": {
            "tags": []
          },
          "execution_count": 144
        }
      ]
    },
    {
      "cell_type": "code",
      "metadata": {
        "id": "2u-FiuHAjVRS",
        "colab_type": "code",
        "colab": {
          "base_uri": "https://localhost:8080/",
          "height": 282
        },
        "outputId": "1ab4195c-0fcb-4299-d755-658a57316253"
      },
      "source": [
        "import matplotlib.pyplot as plt\n",
        "%matplotlib inline\n",
        "\n",
        "plt.imshow(x_train[100].reshape(28,28),cmap=\"gray\")"
      ],
      "execution_count": 145,
      "outputs": [
        {
          "output_type": "execute_result",
          "data": {
            "text/plain": [
              "<matplotlib.image.AxesImage at 0x7fe11a9b9400>"
            ]
          },
          "metadata": {
            "tags": []
          },
          "execution_count": 145
        },
        {
          "output_type": "display_data",
          "data": {
            "image/png": "[encoded data removed]",
            "text/plain": [
              "<Figure size 432x288 with 1 Axes>"
            ]
          },
          "metadata": {
            "tags": [],
            "needs_background": "light"
          }
        }
      ]
    },
    {
      "cell_type": "code",
      "metadata": {
        "id": "CY1u1ZuBj003",
        "colab_type": "code",
        "colab": {
          "base_uri": "https://localhost:8080/",
          "height": 1000
        },
        "outputId": "8f00d720-2447-4570-c8d6-522db82ed304"
      },
      "source": [
        "for _ in range(10):\n",
        "  j = np.random.randint(1,60000)\n",
        "  plt.imshow(vae.predict(x_train[j].reshape(1,784)).reshape(28,28),cmap=\"gray\")\n",
        "  plt.show()"
      ],
      "execution_count": 147,
      "outputs": [
        {
          "output_type": "display_data",
          "data": {
            "image/png": "[encoded data removed]",
            "text/plain": [
              "<Figure size 432x288 with 1 Axes>"
            ]
          },
          "metadata": {
            "tags": [],
            "needs_background": "light"
          }
        },
        {
          "output_type": "display_data",
          "data": {
            "image/png": "[encoded data removed]",
            "text/plain": [
              "<Figure size 432x288 with 1 Axes>"
            ]
          },
          "metadata": {
            "tags": [],
            "needs_background": "light"
          }
        },
        {
          "output_type": "display_data",
          "data": {
            "image/png": "[encoded data removed]",
            "text/plain": [
              "<Figure size 432x288 with 1 Axes>"
            ]
          },
          "metadata": {
            "tags": [],
            "needs_background": "light"
          }
        },
        {
          "output_type": "display_data",
          "data": {
            "image/png": "[encoded data removed]",
            "text/plain": [
              "<Figure size 432x288 with 1 Axes>"
            ]
          },
          "metadata": {
            "tags": [],
            "needs_background": "light"
          }
        },
        {
          "output_type": "display_data",
          "data": {
            "image/png": "[encoded data removed]",
            "text/plain": [
              "<Figure size 432x288 with 1 Axes>"
            ]
          },
          "metadata": {
            "tags": [],
            "needs_background": "light"
          }
        },
        {
          "output_type": "display_data",
          "data": {
            "image/png": "[encoded data removed]",
            "text/plain": [
              "<Figure size 432x288 with 1 Axes>"
            ]
          },
          "metadata": {
            "tags": [],
            "needs_background": "light"
          }
        },
        {
          "output_type": "display_data",
          "data": {
            "image/png": "[encoded data removed]",
            "text/plain": [
              "<Figure size 432x288 with 1 Axes>"
            ]
          },
          "metadata": {
            "tags": [],
            "needs_background": "light"
          }
        },
        {
          "output_type": "display_data",
          "data": {
            "image/png": "[encoded data removed]",
            "text/plain": [
              "<Figure size 432x288 with 1 Axes>"
            ]
          },
          "metadata": {
            "tags": [],
            "needs_background": "light"
          }
        },
        {
          "output_type": "display_data",
          "data": {
            "image/png": "[encoded data removed]",
            "text/plain": [
              "<Figure size 432x288 with 1 Axes>"
            ]
          },
          "metadata": {
            "tags": [],
            "needs_background": "light"
          }
        },
        {
          "output_type": "display_data",
          "data": {
            "image/png": "[encoded data removed]",
            "text/plain": [
              "<Figure size 432x288 with 1 Axes>"
            ]
          },
          "metadata": {
            "tags": [],
            "needs_background": "light"
          }
        }
      ]
    },
    {
      "cell_type": "code",
      "metadata": {
        "id": "oD2cek68oq1B",
        "colab_type": "code",
        "colab": {}
      },
      "source": [
        ""
      ],
      "execution_count": null,
      "outputs": []
    }
  ]
}